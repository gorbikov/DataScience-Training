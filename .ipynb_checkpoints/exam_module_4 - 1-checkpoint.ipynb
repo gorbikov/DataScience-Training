{
 "cells": [
  {
   "cell_type": "code",
   "execution_count": 13,
   "metadata": {},
   "outputs": [],
   "source": [
    "# Настраиваем импорты.\n",
    "import pandas as pd\n",
    "\n",
    "# Вводные.\n",
    "trainPath = 'data/exam_module_4/1_variant_dna_sequence_mutation_prediction/input/train.csv'\n",
    "testPath = 'data/exam_module_4/1_variant_dna_sequence_mutation_prediction/input/test.csv'\n",
    "cvFraction = 0.15\n",
    "randomCeed = 777"
   ]
  },
  {
   "cell_type": "code",
   "execution_count": 14,
   "metadata": {},
   "outputs": [
    {
     "name": "stdout",
     "output_type": "stream",
     "text": [
      "Task type: logistic regression or SVM\n"
     ]
    }
   ],
   "source": [
    "# 1. Определяем тип задачи.\n",
    "print('Task type: logistic regression or SVM')"
   ]
  },
  {
   "cell_type": "code",
   "execution_count": 15,
   "metadata": {},
   "outputs": [
    {
     "name": "stdout",
     "output_type": "stream",
     "text": [
      "Original train data: (180000, 32)\n",
      "Original test data: (120000, 31)\n",
      "Train data: (153000, 31)\n",
      "Train target data: (153000, 2)\n",
      "CV data: (27000, 31)\n",
      "CV target data: (27000, 2)\n",
      "Test data: (120000, 31)\n"
     ]
    }
   ],
   "source": [
    "# 2. Создаём фреймы и выделяем часть датасета на CV.\n",
    "trainDf = pd.read_csv(trainPath).sample(frac=(1 - cvFraction), random_state=randomCeed).drop('mutation', axis=1)\n",
    "trainDfTarget = pd.read_csv(trainPath).sample(frac=(1 - cvFraction), random_state=randomCeed)[['ID', 'mutation']]\n",
    "cvDf = pd.read_csv(trainPath).drop(trainDf.index).drop('mutation', axis=1)\n",
    "cvDfTarget = pd.read_csv(trainPath).drop(trainDfTarget.index)[['ID', 'mutation']]\n",
    "testDf = pd.read_csv(testPath)\n",
    "\n",
    "print('Original train data: ' + str(pd.read_csv(trainPath).shape))\n",
    "print('Original test data: ' + str(pd.read_csv(testPath).shape))\n",
    "print('Train data: ' + str(trainDf.shape))\n",
    "print('Train target data: ' + str(trainDfTarget.shape))\n",
    "print('CV data: ' + str(cvDf.shape))\n",
    "print('CV target data: ' + str(cvDfTarget.shape))\n",
    "print('Test data: ' + str(testDf.shape))"
   ]
  },
  {
   "cell_type": "code",
   "execution_count": 16,
   "metadata": {},
   "outputs": [
    {
     "name": "stdout",
     "output_type": "stream",
     "text": [
      "Train data types: \n",
      "ID             int64\n",
      "sequence1     object\n",
      "sequence2     object\n",
      "sequence3     object\n",
      "sequence4     object\n",
      "sequence5     object\n",
      "sequence6     object\n",
      "sequence7     object\n",
      "sequence8     object\n",
      "sequence9     object\n",
      "A              int64\n",
      "B              int64\n",
      "C              int64\n",
      "D              int64\n",
      "E              int64\n",
      "F              int64\n",
      "G              int64\n",
      "H              int64\n",
      "I              int64\n",
      "J              int64\n",
      "K            float64\n",
      "L            float64\n",
      "M            float64\n",
      "N            float64\n",
      "O            float64\n",
      "P            float64\n",
      "Q            float64\n",
      "R            float64\n",
      "S            float64\n",
      "T            float64\n",
      "U            float64\n",
      "dtype: object\n",
      "Train target data types: \n",
      "ID          int64\n",
      "mutation    int64\n",
      "dtype: object\n"
     ]
    }
   ],
   "source": [
    "# 3. Определяем тип переменных в датасете.\n",
    "print('Train data types: \\n' + str(trainDf.dtypes))\n",
    "print('Train target data types: \\n' + str(trainDfTarget.dtypes))"
   ]
  },
  {
   "cell_type": "code",
   "execution_count": 25,
   "metadata": {},
   "outputs": [
    {
     "name": "stdout",
     "output_type": "stream",
     "text": [
      "Так как n << m, лучше использовать логистическую регрессию, либо SMV without kernel.\n",
      "Dummie columns: 0\n",
      "TrainDF: \n",
      "            ID  A   B  C  D   E  F   G   H  I  ...  sequence7_GTCATGCACCCT  \\\n",
      "105497  176114  5   3  0  7  33  0  22  45  0  ...                       0   \n",
      "151648  252874  8   2  0  3   2  0  46  28  0  ...                       0   \n",
      "173456  289103  8   0  1  4  28  0   8  51  0  ...                       0   \n",
      "2006      3295  7  15  0  5  33  2   8  38  0  ...                       0   \n",
      "653       1053  8   0  0  6  33  6  50  52  0  ...                       0   \n",
      "\n",
      "        sequence7_TAACATACAGAG  sequence8_AAATCAGCTAAA  \\\n",
      "105497                       0                       0   \n",
      "151648                       0                       0   \n",
      "173456                       0                       0   \n",
      "2006                         0                       1   \n",
      "653                          0                       0   \n",
      "\n",
      "        sequence8_ATTCCATATTTT  sequence8_GTCATGCACCCT  \\\n",
      "105497                       1                       0   \n",
      "151648                       1                       0   \n",
      "173456                       1                       0   \n",
      "2006                         0                       0   \n",
      "653                          0                       0   \n",
      "\n",
      "        sequence8_TAACATACAGAG  sequence9_AAATCAGCTAAA  \\\n",
      "105497                       0                       0   \n",
      "151648                       0                       1   \n",
      "173456                       0                       1   \n",
      "2006                         0                       1   \n",
      "653                          1                       1   \n",
      "\n",
      "        sequence9_ATTCCATATTTT  sequence9_GTCATGCACCCT  sequence9_TAACATACAGAG  \n",
      "105497                       0                       0                       1  \n",
      "151648                       0                       0                       0  \n",
      "173456                       0                       0                       0  \n",
      "2006                         0                       0                       0  \n",
      "653                          0                       0                       0  \n",
      "\n",
      "[5 rows x 48 columns]\n",
      "CvDF: \n",
      "    ID  A  B  C   D   E  F   G   H  I  ...  sequence7_GTCATGCACCCT  \\\n",
      "0    0  8  0  1   1  33  0  44  54  0  ...                       0   \n",
      "27  48  5  3  0  10  33  2  19  19  0  ...                       0   \n",
      "34  57  8  0  1   5  45  0  14  55  0  ...                       0   \n",
      "36  59  8  2  0   5  33  2  33  45  0  ...                       0   \n",
      "54  96  5  0  2   6  33  0  30  54  0  ...                       0   \n",
      "\n",
      "    sequence7_TAACATACAGAG  sequence8_AAATCAGCTAAA  sequence8_ATTCCATATTTT  \\\n",
      "0                        0                       0                       1   \n",
      "27                       0                       0                       1   \n",
      "34                       0                       0                       1   \n",
      "36                       0                       0                       1   \n",
      "54                       0                       0                       1   \n",
      "\n",
      "    sequence8_GTCATGCACCCT  sequence8_TAACATACAGAG  sequence9_AAATCAGCTAAA  \\\n",
      "0                        0                       0                       1   \n",
      "27                       0                       0                       1   \n",
      "34                       0                       0                       1   \n",
      "36                       0                       0                       1   \n",
      "54                       0                       0                       1   \n",
      "\n",
      "    sequence9_ATTCCATATTTT  sequence9_GTCATGCACCCT  sequence9_TAACATACAGAG  \n",
      "0                        0                       0                       0  \n",
      "27                       0                       0                       0  \n",
      "34                       0                       0                       0  \n",
      "36                       0                       0                       0  \n",
      "54                       0                       0                       0  \n",
      "\n",
      "[5 rows x 48 columns]\n",
      "TestDF: \n",
      "   ID   A  B  C  D   E  F   G   H  I  ...  sequence7_GTCATGCACCCT  \\\n",
      "0   1   8  0  0  4  33  8  48   3  5  ...                       0   \n",
      "1   3  10  0  2  4  33  0  50   3  5  ...                       0   \n",
      "2   4   8  6  1  4  33  2  32  54  0  ...                       0   \n",
      "3   6   0  6  0  7  33  0  44   3  4  ...                       0   \n",
      "4   8   8  0  0  4  33  2  11   4  4  ...                       0   \n",
      "\n",
      "   sequence7_TAACATACAGAG  sequence8_AAATCAGCTAAA  sequence8_ATTCCATATTTT  \\\n",
      "0                       0                       0                       1   \n",
      "1                       0                       0                       1   \n",
      "2                       0                       0                       1   \n",
      "3                       0                       0                       1   \n",
      "4                       0                       0                       1   \n",
      "\n",
      "   sequence8_GTCATGCACCCT  sequence8_TAACATACAGAG  sequence9_AAATCAGCTAAA  \\\n",
      "0                       0                       0                       1   \n",
      "1                       0                       0                       1   \n",
      "2                       0                       0                       1   \n",
      "3                       0                       0                       1   \n",
      "4                       0                       0                       1   \n",
      "\n",
      "   sequence9_ATTCCATATTTT  sequence9_GTCATGCACCCT  sequence9_TAACATACAGAG  \n",
      "0                       0                       0                       0  \n",
      "1                       0                       0                       0  \n",
      "2                       0                       0                       0  \n",
      "3                       0                       0                       0  \n",
      "4                       0                       0                       0  \n",
      "\n",
      "[5 rows x 48 columns]\n"
     ]
    }
   ],
   "source": [
    "# 4. Если это необходимо провести препроцессинг данных, нужно ли применять алгоритмы понижения размерности?\n",
    "# Нужно ли убирать аномалии?\n",
    "print('Так как n << m, лучше использовать логистическую регрессию, либо SMV without kernel.')\n",
    "\n",
    "# Переводим первые 9 столбцов в цифры (по методу one-hot, one-hot столбцы добавляются в конце датафрейма).\n",
    "dummieCounter = 0\n",
    "for col in trainDf.columns:\n",
    "    if trainDf[col].dtypes == object:\n",
    "        dummieCounter += len(trainDf[col].unique())\n",
    "        print('Unique in ' + str(col) + ': ' + str(len(trainDf[col].unique())))\n",
    "print('Dummie columns: ' + str(dummieCounter))\n",
    "\n",
    "trainDf = pd.get_dummies(trainDf)\n",
    "cvDf = pd.get_dummies(cvDf)\n",
    "testDf = pd.get_dummies(testDf)\n",
    "\n",
    "print(\"TrainDF: \")\n",
    "print(trainDf.head())\n",
    "print('CvDF: ')\n",
    "print(cvDf.head())\n",
    "print(\"TestDF: \")\n",
    "print(testDf.head())"
   ]
  },
  {
   "cell_type": "code",
   "execution_count": 18,
   "metadata": {},
   "outputs": [],
   "source": [
    "# 5. Провести EDA и вывести какие-то умозаключения и посмотреть на распределения признаков, на корреляции, на выбросы."
   ]
  },
  {
   "cell_type": "code",
   "execution_count": 19,
   "metadata": {},
   "outputs": [],
   "source": [
    "# 6. Подумать над вариантом модели, для того чтобы решить задачу (либо ансамблем моделей)"
   ]
  },
  {
   "cell_type": "code",
   "execution_count": 20,
   "metadata": {},
   "outputs": [],
   "source": [
    "# 7. Подумать нужно ли применять Unsupervised learning подход для решения задачи?\n",
    "# Неоходима ли дополнительная информация?"
   ]
  },
  {
   "cell_type": "code",
   "execution_count": 21,
   "metadata": {},
   "outputs": [],
   "source": [
    "# 8. Обучить модель и вывести валидационный скор по метрике качества."
   ]
  },
  {
   "cell_type": "code",
   "execution_count": 22,
   "metadata": {},
   "outputs": [],
   "source": [
    "# 9. Построить отчет на 10 предложнений."
   ]
  },
  {
   "cell_type": "code",
   "execution_count": 23,
   "metadata": {},
   "outputs": [],
   "source": [
    "# 10. Выйти и объяснить подход к решению задачи."
   ]
  }
 ],
 "metadata": {
  "kernelspec": {
   "display_name": "Python 3 (ipykernel)",
   "language": "python",
   "name": "python3"
  },
  "language_info": {
   "codemirror_mode": {
    "name": "ipython",
    "version": 3
   },
   "file_extension": ".py",
   "mimetype": "text/x-python",
   "name": "python",
   "nbconvert_exporter": "python",
   "pygments_lexer": "ipython3",
   "version": "3.10.4"
  }
 },
 "nbformat": 4,
 "nbformat_minor": 1
}
