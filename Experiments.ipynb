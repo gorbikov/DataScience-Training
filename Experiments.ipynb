{
 "cells": [
  {
   "cell_type": "code",
   "execution_count": 5,
   "metadata": {},
   "outputs": [],
   "source": [
    "import pandas as pd\n",
    "import torch"
   ]
  },
  {
   "cell_type": "code",
   "execution_count": 3,
   "metadata": {},
   "outputs": [],
   "source": [
    "a = pd.DataFrame({'one': [1, 2, 3, 4], 'two': [1, 2, 3, 4]})\n",
    "b = pd.DataFrame({'one': [1, 4, 3, 4], 'two': [1, 4, 3, 4]})"
   ]
  },
  {
   "cell_type": "code",
   "execution_count": 4,
   "metadata": {},
   "outputs": [
    {
     "name": "stdout",
     "output_type": "stream",
     "text": [
      "tensor([[1, 1],\n",
      "        [2, 2],\n",
      "        [3, 3],\n",
      "        [4, 4]])\n",
      "cpu\n"
     ]
    }
   ],
   "source": [
    "tensorA = torch.tensor(a.values)\n",
    "print(tensorA)\n",
    "print(tensorA.device)"
   ]
  }
 ],
 "metadata": {
  "kernelspec": {
   "display_name": "Python 3 (ipykernel)",
   "language": "python",
   "name": "python3"
  },
  "language_info": {
   "codemirror_mode": {
    "name": "ipython",
    "version": 3
   },
   "file_extension": ".py",
   "mimetype": "text/x-python",
   "name": "python",
   "nbconvert_exporter": "python",
   "pygments_lexer": "ipython3",
   "version": "3.10.4"
  }
 },
 "nbformat": 4,
 "nbformat_minor": 1
}
