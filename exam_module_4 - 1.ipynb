{
 "cells": [
  {
   "cell_type": "code",
   "execution_count": 1,
   "metadata": {},
   "outputs": [],
   "source": [
    "# Настраиваем импорты.\n",
    "import pandas as pd\n",
    "import numpy as np\n",
    "import matplotlib\n",
    "import matplotlib.pyplot as plt\n",
    "import seaborn as sns\n",
    "import missingno\n",
    "%matplotlib inline\n",
    "\n",
    "# Вводные.\n",
    "trainPath = 'data/exam_module_4/1_variant_dna_sequence_mutation_prediction/input/train.csv'\n",
    "testPath = 'data/exam_module_4/1_variant_dna_sequence_mutation_prediction/input/test.csv'\n",
    "cvFraction = 0.15\n",
    "randomCeed = 777"
   ]
  },
  {
   "cell_type": "code",
   "execution_count": 2,
   "metadata": {},
   "outputs": [
    {
     "name": "stdout",
     "output_type": "stream",
     "text": [
      "Task type: logistic regression or SVM\n"
     ]
    }
   ],
   "source": [
    "# 1. Определяем тип задачи.\n",
    "print('Task type: logistic regression or SVM')"
   ]
  },
  {
   "cell_type": "code",
   "execution_count": 3,
   "metadata": {},
   "outputs": [
    {
     "name": "stdout",
     "output_type": "stream",
     "text": [
      "Original train data: (180000, 32)\n",
      "Original test data: (120000, 31)\n",
      "Train data: (153000, 31)\n",
      "Train target data: (153000, 2)\n",
      "CV data: (27000, 31)\n",
      "CV target data: (27000, 2)\n",
      "Test data: (120000, 31)\n"
     ]
    }
   ],
   "source": [
    "# 2. Создаём фреймы и выделяем часть датасета на CV.\n",
    "trainDf = pd.read_csv(trainPath).sample(frac=(1 - cvFraction), random_state=randomCeed).drop('mutation', axis=1)\n",
    "trainDfTarget = pd.read_csv(trainPath).sample(frac=(1 - cvFraction), random_state=randomCeed)[['ID', 'mutation']]\n",
    "cvDf = pd.read_csv(trainPath).drop(trainDf.index).drop('mutation', axis=1)\n",
    "cvDfTarget = pd.read_csv(trainPath).drop(trainDfTarget.index)[['ID', 'mutation']]\n",
    "testDf = pd.read_csv(testPath)\n",
    "\n",
    "print('Original train data: ' + str(pd.read_csv(trainPath).shape))\n",
    "print('Original test data: ' + str(pd.read_csv(testPath).shape))\n",
    "print('Train data: ' + str(trainDf.shape))\n",
    "print('Train target data: ' + str(trainDfTarget.shape))\n",
    "print('CV data: ' + str(cvDf.shape))\n",
    "print('CV target data: ' + str(cvDfTarget.shape))\n",
    "print('Test data: ' + str(testDf.shape))"
   ]
  },
  {
   "cell_type": "code",
   "execution_count": 4,
   "metadata": {},
   "outputs": [
    {
     "name": "stdout",
     "output_type": "stream",
     "text": [
      "Train data types: \n",
      "ID             int64\n",
      "sequence1     object\n",
      "sequence2     object\n",
      "sequence3     object\n",
      "sequence4     object\n",
      "sequence5     object\n",
      "sequence6     object\n",
      "sequence7     object\n",
      "sequence8     object\n",
      "sequence9     object\n",
      "A              int64\n",
      "B              int64\n",
      "C              int64\n",
      "D              int64\n",
      "E              int64\n",
      "F              int64\n",
      "G              int64\n",
      "H              int64\n",
      "I              int64\n",
      "J              int64\n",
      "K            float64\n",
      "L            float64\n",
      "M            float64\n",
      "N            float64\n",
      "O            float64\n",
      "P            float64\n",
      "Q            float64\n",
      "R            float64\n",
      "S            float64\n",
      "T            float64\n",
      "U            float64\n",
      "dtype: object\n",
      "Train target data types: \n",
      "ID          int64\n",
      "mutation    int64\n",
      "dtype: object\n"
     ]
    }
   ],
   "source": [
    "# 3. Определяем тип переменных в датасете.\n",
    "print('Train data types: \\n' + str(trainDf.dtypes))\n",
    "print('Train target data types: \\n' + str(trainDfTarget.dtypes))"
   ]
  },
  {
   "cell_type": "code",
   "execution_count": 5,
   "metadata": {},
   "outputs": [
    {
     "name": "stdout",
     "output_type": "stream",
     "text": [
      "Так как n << m, лучше использовать логистическую регрессию, либо SMV without kernel.\n",
      "Unique in sequence1: 2\n",
      "Unique in sequence2: 2\n",
      "Unique in sequence3: 2\n",
      "Unique in sequence4: 2\n",
      "Unique in sequence5: 2\n",
      "Unique in sequence6: 4\n",
      "Unique in sequence7: 4\n",
      "Unique in sequence8: 4\n",
      "Unique in sequence9: 4\n",
      "Dummie columns: 26\n",
      "TrainDF: \n",
      "            ID  A   B  C  D   E  F   G   H  I  ...  sequence7_GTCATGCACCCT  \\\n",
      "105497  176114  5   3  0  7  33  0  22  45  0  ...                       0   \n",
      "151648  252874  8   2  0  3   2  0  46  28  0  ...                       0   \n",
      "173456  289103  8   0  1  4  28  0   8  51  0  ...                       0   \n",
      "2006      3295  7  15  0  5  33  2   8  38  0  ...                       0   \n",
      "653       1053  8   0  0  6  33  6  50  52  0  ...                       0   \n",
      "\n",
      "        sequence7_TAACATACAGAG  sequence8_AAATCAGCTAAA  \\\n",
      "105497                       0                       0   \n",
      "151648                       0                       0   \n",
      "173456                       0                       0   \n",
      "2006                         0                       1   \n",
      "653                          0                       0   \n",
      "\n",
      "        sequence8_ATTCCATATTTT  sequence8_GTCATGCACCCT  \\\n",
      "105497                       1                       0   \n",
      "151648                       1                       0   \n",
      "173456                       1                       0   \n",
      "2006                         0                       0   \n",
      "653                          0                       0   \n",
      "\n",
      "        sequence8_TAACATACAGAG  sequence9_AAATCAGCTAAA  \\\n",
      "105497                       0                       0   \n",
      "151648                       0                       1   \n",
      "173456                       0                       1   \n",
      "2006                         0                       1   \n",
      "653                          1                       1   \n",
      "\n",
      "        sequence9_ATTCCATATTTT  sequence9_GTCATGCACCCT  sequence9_TAACATACAGAG  \n",
      "105497                       0                       0                       1  \n",
      "151648                       0                       0                       0  \n",
      "173456                       0                       0                       0  \n",
      "2006                         0                       0                       0  \n",
      "653                          0                       0                       0  \n",
      "\n",
      "[5 rows x 48 columns]\n",
      "CvDF: \n",
      "    ID  A  B  C   D   E  F   G   H  I  ...  sequence7_GTCATGCACCCT  \\\n",
      "0    0  8  0  1   1  33  0  44  54  0  ...                       0   \n",
      "27  48  5  3  0  10  33  2  19  19  0  ...                       0   \n",
      "34  57  8  0  1   5  45  0  14  55  0  ...                       0   \n",
      "36  59  8  2  0   5  33  2  33  45  0  ...                       0   \n",
      "54  96  5  0  2   6  33  0  30  54  0  ...                       0   \n",
      "\n",
      "    sequence7_TAACATACAGAG  sequence8_AAATCAGCTAAA  sequence8_ATTCCATATTTT  \\\n",
      "0                        0                       0                       1   \n",
      "27                       0                       0                       1   \n",
      "34                       0                       0                       1   \n",
      "36                       0                       0                       1   \n",
      "54                       0                       0                       1   \n",
      "\n",
      "    sequence8_GTCATGCACCCT  sequence8_TAACATACAGAG  sequence9_AAATCAGCTAAA  \\\n",
      "0                        0                       0                       1   \n",
      "27                       0                       0                       1   \n",
      "34                       0                       0                       1   \n",
      "36                       0                       0                       1   \n",
      "54                       0                       0                       1   \n",
      "\n",
      "    sequence9_ATTCCATATTTT  sequence9_GTCATGCACCCT  sequence9_TAACATACAGAG  \n",
      "0                        0                       0                       0  \n",
      "27                       0                       0                       0  \n",
      "34                       0                       0                       0  \n",
      "36                       0                       0                       0  \n",
      "54                       0                       0                       0  \n",
      "\n",
      "[5 rows x 48 columns]\n",
      "TestDF: \n",
      "   ID   A  B  C  D   E  F   G   H  I  ...  sequence7_GTCATGCACCCT  \\\n",
      "0   1   8  0  0  4  33  8  48   3  5  ...                       0   \n",
      "1   3  10  0  2  4  33  0  50   3  5  ...                       0   \n",
      "2   4   8  6  1  4  33  2  32  54  0  ...                       0   \n",
      "3   6   0  6  0  7  33  0  44   3  4  ...                       0   \n",
      "4   8   8  0  0  4  33  2  11   4  4  ...                       0   \n",
      "\n",
      "   sequence7_TAACATACAGAG  sequence8_AAATCAGCTAAA  sequence8_ATTCCATATTTT  \\\n",
      "0                       0                       0                       1   \n",
      "1                       0                       0                       1   \n",
      "2                       0                       0                       1   \n",
      "3                       0                       0                       1   \n",
      "4                       0                       0                       1   \n",
      "\n",
      "   sequence8_GTCATGCACCCT  sequence8_TAACATACAGAG  sequence9_AAATCAGCTAAA  \\\n",
      "0                       0                       0                       1   \n",
      "1                       0                       0                       1   \n",
      "2                       0                       0                       1   \n",
      "3                       0                       0                       1   \n",
      "4                       0                       0                       1   \n",
      "\n",
      "   sequence9_ATTCCATATTTT  sequence9_GTCATGCACCCT  sequence9_TAACATACAGAG  \n",
      "0                       0                       0                       0  \n",
      "1                       0                       0                       0  \n",
      "2                       0                       0                       0  \n",
      "3                       0                       0                       0  \n",
      "4                       0                       0                       0  \n",
      "\n",
      "[5 rows x 48 columns]\n"
     ]
    }
   ],
   "source": [
    "# 4. Если это необходимо провести препроцессинг данных, нужно ли применять алгоритмы понижения размерности?\n",
    "# Нужно ли убирать аномалии?\n",
    "print('Так как n << m, лучше использовать логистическую регрессию, либо SMV without kernel.')\n",
    "\n",
    "# Переводим первые 9 столбцов в цифры (по методу one-hot, one-hot столбцы добавляются в конце датафрейма).\n",
    "dummieCounter = 0\n",
    "for col in trainDf.columns:\n",
    "    if trainDf[col].dtypes == object:\n",
    "        dummieCounter += len(trainDf[col].unique())\n",
    "        print('Unique in ' + str(col) + ': ' + str(len(trainDf[col].unique())))\n",
    "print('Dummie columns: ' + str(dummieCounter))\n",
    "\n",
    "trainDf = pd.get_dummies(trainDf)\n",
    "cvDf = pd.get_dummies(cvDf)\n",
    "testDf = pd.get_dummies(testDf)\n",
    "\n",
    "print(\"TrainDF: \")\n",
    "print(trainDf.head())\n",
    "print('CvDF: ')\n",
    "print(cvDf.head())\n",
    "print(\"TestDF: \")\n",
    "print(testDf.head())"
   ]
  },
  {
   "cell_type": "code",
   "execution_count": 11,
   "metadata": {},
   "outputs": [
    {
     "name": "stdout",
     "output_type": "stream",
     "text": [
      "trainDf:\n",
      "<class 'pandas.core.frame.DataFrame'>\n",
      "Int64Index: 153000 entries, 105497 to 170866\n",
      "Data columns (total 48 columns):\n",
      " #   Column                  Non-Null Count   Dtype  \n",
      "---  ------                  --------------   -----  \n",
      " 0   ID                      153000 non-null  int64  \n",
      " 1   A                       153000 non-null  int64  \n",
      " 2   B                       153000 non-null  int64  \n",
      " 3   C                       153000 non-null  int64  \n",
      " 4   D                       153000 non-null  int64  \n",
      " 5   E                       153000 non-null  int64  \n",
      " 6   F                       153000 non-null  int64  \n",
      " 7   G                       153000 non-null  int64  \n",
      " 8   H                       153000 non-null  int64  \n",
      " 9   I                       153000 non-null  int64  \n",
      " 10  J                       153000 non-null  int64  \n",
      " 11  K                       153000 non-null  float64\n",
      " 12  L                       153000 non-null  float64\n",
      " 13  M                       153000 non-null  float64\n",
      " 14  N                       153000 non-null  float64\n",
      " 15  O                       153000 non-null  float64\n",
      " 16  P                       153000 non-null  float64\n",
      " 17  Q                       153000 non-null  float64\n",
      " 18  R                       153000 non-null  float64\n",
      " 19  S                       153000 non-null  float64\n",
      " 20  T                       153000 non-null  float64\n",
      " 21  U                       153000 non-null  float64\n",
      " 22  sequence1_ATGCGCTTAATT  153000 non-null  uint8  \n",
      " 23  sequence1_GATCGTAGCTAA  153000 non-null  uint8  \n",
      " 24  sequence2_ATGCGCTTAATT  153000 non-null  uint8  \n",
      " 25  sequence2_GATCGTAGCTAA  153000 non-null  uint8  \n",
      " 26  sequence3_ATGCGCTTAATT  153000 non-null  uint8  \n",
      " 27  sequence3_GATCGTAGCTAA  153000 non-null  uint8  \n",
      " 28  sequence4_ATGCGCTTAATT  153000 non-null  uint8  \n",
      " 29  sequence4_GATCGTAGCTAA  153000 non-null  uint8  \n",
      " 30  sequence5_ATGCGCTTAATT  153000 non-null  uint8  \n",
      " 31  sequence5_GATCGTAGCTAA  153000 non-null  uint8  \n",
      " 32  sequence6_AAATCAGCTAAA  153000 non-null  uint8  \n",
      " 33  sequence6_ATTCCATATTTT  153000 non-null  uint8  \n",
      " 34  sequence6_GTCATGCACCCT  153000 non-null  uint8  \n",
      " 35  sequence6_TAACATACAGAG  153000 non-null  uint8  \n",
      " 36  sequence7_AAATCAGCTAAA  153000 non-null  uint8  \n",
      " 37  sequence7_ATTCCATATTTT  153000 non-null  uint8  \n",
      " 38  sequence7_GTCATGCACCCT  153000 non-null  uint8  \n",
      " 39  sequence7_TAACATACAGAG  153000 non-null  uint8  \n",
      " 40  sequence8_AAATCAGCTAAA  153000 non-null  uint8  \n",
      " 41  sequence8_ATTCCATATTTT  153000 non-null  uint8  \n",
      " 42  sequence8_GTCATGCACCCT  153000 non-null  uint8  \n",
      " 43  sequence8_TAACATACAGAG  153000 non-null  uint8  \n",
      " 44  sequence9_AAATCAGCTAAA  153000 non-null  uint8  \n",
      " 45  sequence9_ATTCCATATTTT  153000 non-null  uint8  \n",
      " 46  sequence9_GTCATGCACCCT  153000 non-null  uint8  \n",
      " 47  sequence9_TAACATACAGAG  153000 non-null  uint8  \n",
      "dtypes: float64(11), int64(11), uint8(26)\n",
      "memory usage: 30.6 MB\n"
     ]
    },
    {
     "data": {
      "text/plain": "            ID  A   B  C  D   E  F   G   H  I  ...  sequence7_GTCATGCACCCT  \\\n105497  176114  5   3  0  7  33  0  22  45  0  ...                       0   \n151648  252874  8   2  0  3   2  0  46  28  0  ...                       0   \n173456  289103  8   0  1  4  28  0   8  51  0  ...                       0   \n2006      3295  7  15  0  5  33  2   8  38  0  ...                       0   \n653       1053  8   0  0  6  33  6  50  52  0  ...                       0   \n\n        sequence7_TAACATACAGAG  sequence8_AAATCAGCTAAA  \\\n105497                       0                       0   \n151648                       0                       0   \n173456                       0                       0   \n2006                         0                       1   \n653                          0                       0   \n\n        sequence8_ATTCCATATTTT  sequence8_GTCATGCACCCT  \\\n105497                       1                       0   \n151648                       1                       0   \n173456                       1                       0   \n2006                         0                       0   \n653                          0                       0   \n\n        sequence8_TAACATACAGAG  sequence9_AAATCAGCTAAA  \\\n105497                       0                       0   \n151648                       0                       1   \n173456                       0                       1   \n2006                         0                       1   \n653                          1                       1   \n\n        sequence9_ATTCCATATTTT  sequence9_GTCATGCACCCT  sequence9_TAACATACAGAG  \n105497                       0                       0                       1  \n151648                       0                       0                       0  \n173456                       0                       0                       0  \n2006                         0                       0                       0  \n653                          0                       0                       0  \n\n[5 rows x 48 columns]",
      "text/html": "<div>\n<style scoped>\n    .dataframe tbody tr th:only-of-type {\n        vertical-align: middle;\n    }\n\n    .dataframe tbody tr th {\n        vertical-align: top;\n    }\n\n    .dataframe thead th {\n        text-align: right;\n    }\n</style>\n<table border=\"1\" class=\"dataframe\">\n  <thead>\n    <tr style=\"text-align: right;\">\n      <th></th>\n      <th>ID</th>\n      <th>A</th>\n      <th>B</th>\n      <th>C</th>\n      <th>D</th>\n      <th>E</th>\n      <th>F</th>\n      <th>G</th>\n      <th>H</th>\n      <th>I</th>\n      <th>...</th>\n      <th>sequence7_GTCATGCACCCT</th>\n      <th>sequence7_TAACATACAGAG</th>\n      <th>sequence8_AAATCAGCTAAA</th>\n      <th>sequence8_ATTCCATATTTT</th>\n      <th>sequence8_GTCATGCACCCT</th>\n      <th>sequence8_TAACATACAGAG</th>\n      <th>sequence9_AAATCAGCTAAA</th>\n      <th>sequence9_ATTCCATATTTT</th>\n      <th>sequence9_GTCATGCACCCT</th>\n      <th>sequence9_TAACATACAGAG</th>\n    </tr>\n  </thead>\n  <tbody>\n    <tr>\n      <th>105497</th>\n      <td>176114</td>\n      <td>5</td>\n      <td>3</td>\n      <td>0</td>\n      <td>7</td>\n      <td>33</td>\n      <td>0</td>\n      <td>22</td>\n      <td>45</td>\n      <td>0</td>\n      <td>...</td>\n      <td>0</td>\n      <td>0</td>\n      <td>0</td>\n      <td>1</td>\n      <td>0</td>\n      <td>0</td>\n      <td>0</td>\n      <td>0</td>\n      <td>0</td>\n      <td>1</td>\n    </tr>\n    <tr>\n      <th>151648</th>\n      <td>252874</td>\n      <td>8</td>\n      <td>2</td>\n      <td>0</td>\n      <td>3</td>\n      <td>2</td>\n      <td>0</td>\n      <td>46</td>\n      <td>28</td>\n      <td>0</td>\n      <td>...</td>\n      <td>0</td>\n      <td>0</td>\n      <td>0</td>\n      <td>1</td>\n      <td>0</td>\n      <td>0</td>\n      <td>1</td>\n      <td>0</td>\n      <td>0</td>\n      <td>0</td>\n    </tr>\n    <tr>\n      <th>173456</th>\n      <td>289103</td>\n      <td>8</td>\n      <td>0</td>\n      <td>1</td>\n      <td>4</td>\n      <td>28</td>\n      <td>0</td>\n      <td>8</td>\n      <td>51</td>\n      <td>0</td>\n      <td>...</td>\n      <td>0</td>\n      <td>0</td>\n      <td>0</td>\n      <td>1</td>\n      <td>0</td>\n      <td>0</td>\n      <td>1</td>\n      <td>0</td>\n      <td>0</td>\n      <td>0</td>\n    </tr>\n    <tr>\n      <th>2006</th>\n      <td>3295</td>\n      <td>7</td>\n      <td>15</td>\n      <td>0</td>\n      <td>5</td>\n      <td>33</td>\n      <td>2</td>\n      <td>8</td>\n      <td>38</td>\n      <td>0</td>\n      <td>...</td>\n      <td>0</td>\n      <td>0</td>\n      <td>1</td>\n      <td>0</td>\n      <td>0</td>\n      <td>0</td>\n      <td>1</td>\n      <td>0</td>\n      <td>0</td>\n      <td>0</td>\n    </tr>\n    <tr>\n      <th>653</th>\n      <td>1053</td>\n      <td>8</td>\n      <td>0</td>\n      <td>0</td>\n      <td>6</td>\n      <td>33</td>\n      <td>6</td>\n      <td>50</td>\n      <td>52</td>\n      <td>0</td>\n      <td>...</td>\n      <td>0</td>\n      <td>0</td>\n      <td>0</td>\n      <td>0</td>\n      <td>0</td>\n      <td>1</td>\n      <td>1</td>\n      <td>0</td>\n      <td>0</td>\n      <td>0</td>\n    </tr>\n  </tbody>\n</table>\n<p>5 rows × 48 columns</p>\n</div>"
     },
     "execution_count": 11,
     "metadata": {},
     "output_type": "execute_result"
    }
   ],
   "source": [
    "# 5. Провести EDA и вывести какие-то умозаключения и посмотреть на распределения признаков, на корреляции, на выбросы.\n",
    "print(\"trainDf:\")\n",
    "trainDf.info()\n",
    "trainDf.head()"
   ]
  },
  {
   "cell_type": "code",
   "execution_count": 12,
   "outputs": [
    {
     "name": "stdout",
     "output_type": "stream",
     "text": [
      "trainDfTarget:\n",
      "<class 'pandas.core.frame.DataFrame'>\n",
      "Int64Index: 153000 entries, 105497 to 170866\n",
      "Data columns (total 2 columns):\n",
      " #   Column    Non-Null Count   Dtype\n",
      "---  ------    --------------   -----\n",
      " 0   ID        153000 non-null  int64\n",
      " 1   mutation  153000 non-null  int64\n",
      "dtypes: int64(2)\n",
      "memory usage: 3.5 MB\n"
     ]
    },
    {
     "data": {
      "text/plain": "            ID  mutation\n105497  176114         0\n151648  252874         0\n173456  289103         0\n2006      3295         1\n653       1053         0",
      "text/html": "<div>\n<style scoped>\n    .dataframe tbody tr th:only-of-type {\n        vertical-align: middle;\n    }\n\n    .dataframe tbody tr th {\n        vertical-align: top;\n    }\n\n    .dataframe thead th {\n        text-align: right;\n    }\n</style>\n<table border=\"1\" class=\"dataframe\">\n  <thead>\n    <tr style=\"text-align: right;\">\n      <th></th>\n      <th>ID</th>\n      <th>mutation</th>\n    </tr>\n  </thead>\n  <tbody>\n    <tr>\n      <th>105497</th>\n      <td>176114</td>\n      <td>0</td>\n    </tr>\n    <tr>\n      <th>151648</th>\n      <td>252874</td>\n      <td>0</td>\n    </tr>\n    <tr>\n      <th>173456</th>\n      <td>289103</td>\n      <td>0</td>\n    </tr>\n    <tr>\n      <th>2006</th>\n      <td>3295</td>\n      <td>1</td>\n    </tr>\n    <tr>\n      <th>653</th>\n      <td>1053</td>\n      <td>0</td>\n    </tr>\n  </tbody>\n</table>\n</div>"
     },
     "execution_count": 12,
     "metadata": {},
     "output_type": "execute_result"
    }
   ],
   "source": [
    "print(\"trainDfTarget:\")\n",
    "trainDfTarget.info()\n",
    "trainDfTarget.head()"
   ],
   "metadata": {
    "collapsed": false
   }
  },
  {
   "cell_type": "code",
   "execution_count": 13,
   "outputs": [
    {
     "name": "stdout",
     "output_type": "stream",
     "text": [
      "cvDf:\n",
      "<class 'pandas.core.frame.DataFrame'>\n",
      "Int64Index: 27000 entries, 0 to 179996\n",
      "Data columns (total 48 columns):\n",
      " #   Column                  Non-Null Count  Dtype  \n",
      "---  ------                  --------------  -----  \n",
      " 0   ID                      27000 non-null  int64  \n",
      " 1   A                       27000 non-null  int64  \n",
      " 2   B                       27000 non-null  int64  \n",
      " 3   C                       27000 non-null  int64  \n",
      " 4   D                       27000 non-null  int64  \n",
      " 5   E                       27000 non-null  int64  \n",
      " 6   F                       27000 non-null  int64  \n",
      " 7   G                       27000 non-null  int64  \n",
      " 8   H                       27000 non-null  int64  \n",
      " 9   I                       27000 non-null  int64  \n",
      " 10  J                       27000 non-null  int64  \n",
      " 11  K                       27000 non-null  float64\n",
      " 12  L                       27000 non-null  float64\n",
      " 13  M                       27000 non-null  float64\n",
      " 14  N                       27000 non-null  float64\n",
      " 15  O                       27000 non-null  float64\n",
      " 16  P                       27000 non-null  float64\n",
      " 17  Q                       27000 non-null  float64\n",
      " 18  R                       27000 non-null  float64\n",
      " 19  S                       27000 non-null  float64\n",
      " 20  T                       27000 non-null  float64\n",
      " 21  U                       27000 non-null  float64\n",
      " 22  sequence1_ATGCGCTTAATT  27000 non-null  uint8  \n",
      " 23  sequence1_GATCGTAGCTAA  27000 non-null  uint8  \n",
      " 24  sequence2_ATGCGCTTAATT  27000 non-null  uint8  \n",
      " 25  sequence2_GATCGTAGCTAA  27000 non-null  uint8  \n",
      " 26  sequence3_ATGCGCTTAATT  27000 non-null  uint8  \n",
      " 27  sequence3_GATCGTAGCTAA  27000 non-null  uint8  \n",
      " 28  sequence4_ATGCGCTTAATT  27000 non-null  uint8  \n",
      " 29  sequence4_GATCGTAGCTAA  27000 non-null  uint8  \n",
      " 30  sequence5_ATGCGCTTAATT  27000 non-null  uint8  \n",
      " 31  sequence5_GATCGTAGCTAA  27000 non-null  uint8  \n",
      " 32  sequence6_AAATCAGCTAAA  27000 non-null  uint8  \n",
      " 33  sequence6_ATTCCATATTTT  27000 non-null  uint8  \n",
      " 34  sequence6_GTCATGCACCCT  27000 non-null  uint8  \n",
      " 35  sequence6_TAACATACAGAG  27000 non-null  uint8  \n",
      " 36  sequence7_AAATCAGCTAAA  27000 non-null  uint8  \n",
      " 37  sequence7_ATTCCATATTTT  27000 non-null  uint8  \n",
      " 38  sequence7_GTCATGCACCCT  27000 non-null  uint8  \n",
      " 39  sequence7_TAACATACAGAG  27000 non-null  uint8  \n",
      " 40  sequence8_AAATCAGCTAAA  27000 non-null  uint8  \n",
      " 41  sequence8_ATTCCATATTTT  27000 non-null  uint8  \n",
      " 42  sequence8_GTCATGCACCCT  27000 non-null  uint8  \n",
      " 43  sequence8_TAACATACAGAG  27000 non-null  uint8  \n",
      " 44  sequence9_AAATCAGCTAAA  27000 non-null  uint8  \n",
      " 45  sequence9_ATTCCATATTTT  27000 non-null  uint8  \n",
      " 46  sequence9_GTCATGCACCCT  27000 non-null  uint8  \n",
      " 47  sequence9_TAACATACAGAG  27000 non-null  uint8  \n",
      "dtypes: float64(11), int64(11), uint8(26)\n",
      "memory usage: 5.4 MB\n"
     ]
    },
    {
     "data": {
      "text/plain": "    ID  A  B  C   D   E  F   G   H  I  ...  sequence7_GTCATGCACCCT  \\\n0    0  8  0  1   1  33  0  44  54  0  ...                       0   \n27  48  5  3  0  10  33  2  19  19  0  ...                       0   \n34  57  8  0  1   5  45  0  14  55  0  ...                       0   \n36  59  8  2  0   5  33  2  33  45  0  ...                       0   \n54  96  5  0  2   6  33  0  30  54  0  ...                       0   \n\n    sequence7_TAACATACAGAG  sequence8_AAATCAGCTAAA  sequence8_ATTCCATATTTT  \\\n0                        0                       0                       1   \n27                       0                       0                       1   \n34                       0                       0                       1   \n36                       0                       0                       1   \n54                       0                       0                       1   \n\n    sequence8_GTCATGCACCCT  sequence8_TAACATACAGAG  sequence9_AAATCAGCTAAA  \\\n0                        0                       0                       1   \n27                       0                       0                       1   \n34                       0                       0                       1   \n36                       0                       0                       1   \n54                       0                       0                       1   \n\n    sequence9_ATTCCATATTTT  sequence9_GTCATGCACCCT  sequence9_TAACATACAGAG  \n0                        0                       0                       0  \n27                       0                       0                       0  \n34                       0                       0                       0  \n36                       0                       0                       0  \n54                       0                       0                       0  \n\n[5 rows x 48 columns]",
      "text/html": "<div>\n<style scoped>\n    .dataframe tbody tr th:only-of-type {\n        vertical-align: middle;\n    }\n\n    .dataframe tbody tr th {\n        vertical-align: top;\n    }\n\n    .dataframe thead th {\n        text-align: right;\n    }\n</style>\n<table border=\"1\" class=\"dataframe\">\n  <thead>\n    <tr style=\"text-align: right;\">\n      <th></th>\n      <th>ID</th>\n      <th>A</th>\n      <th>B</th>\n      <th>C</th>\n      <th>D</th>\n      <th>E</th>\n      <th>F</th>\n      <th>G</th>\n      <th>H</th>\n      <th>I</th>\n      <th>...</th>\n      <th>sequence7_GTCATGCACCCT</th>\n      <th>sequence7_TAACATACAGAG</th>\n      <th>sequence8_AAATCAGCTAAA</th>\n      <th>sequence8_ATTCCATATTTT</th>\n      <th>sequence8_GTCATGCACCCT</th>\n      <th>sequence8_TAACATACAGAG</th>\n      <th>sequence9_AAATCAGCTAAA</th>\n      <th>sequence9_ATTCCATATTTT</th>\n      <th>sequence9_GTCATGCACCCT</th>\n      <th>sequence9_TAACATACAGAG</th>\n    </tr>\n  </thead>\n  <tbody>\n    <tr>\n      <th>0</th>\n      <td>0</td>\n      <td>8</td>\n      <td>0</td>\n      <td>1</td>\n      <td>1</td>\n      <td>33</td>\n      <td>0</td>\n      <td>44</td>\n      <td>54</td>\n      <td>0</td>\n      <td>...</td>\n      <td>0</td>\n      <td>0</td>\n      <td>0</td>\n      <td>1</td>\n      <td>0</td>\n      <td>0</td>\n      <td>1</td>\n      <td>0</td>\n      <td>0</td>\n      <td>0</td>\n    </tr>\n    <tr>\n      <th>27</th>\n      <td>48</td>\n      <td>5</td>\n      <td>3</td>\n      <td>0</td>\n      <td>10</td>\n      <td>33</td>\n      <td>2</td>\n      <td>19</td>\n      <td>19</td>\n      <td>0</td>\n      <td>...</td>\n      <td>0</td>\n      <td>0</td>\n      <td>0</td>\n      <td>1</td>\n      <td>0</td>\n      <td>0</td>\n      <td>1</td>\n      <td>0</td>\n      <td>0</td>\n      <td>0</td>\n    </tr>\n    <tr>\n      <th>34</th>\n      <td>57</td>\n      <td>8</td>\n      <td>0</td>\n      <td>1</td>\n      <td>5</td>\n      <td>45</td>\n      <td>0</td>\n      <td>14</td>\n      <td>55</td>\n      <td>0</td>\n      <td>...</td>\n      <td>0</td>\n      <td>0</td>\n      <td>0</td>\n      <td>1</td>\n      <td>0</td>\n      <td>0</td>\n      <td>1</td>\n      <td>0</td>\n      <td>0</td>\n      <td>0</td>\n    </tr>\n    <tr>\n      <th>36</th>\n      <td>59</td>\n      <td>8</td>\n      <td>2</td>\n      <td>0</td>\n      <td>5</td>\n      <td>33</td>\n      <td>2</td>\n      <td>33</td>\n      <td>45</td>\n      <td>0</td>\n      <td>...</td>\n      <td>0</td>\n      <td>0</td>\n      <td>0</td>\n      <td>1</td>\n      <td>0</td>\n      <td>0</td>\n      <td>1</td>\n      <td>0</td>\n      <td>0</td>\n      <td>0</td>\n    </tr>\n    <tr>\n      <th>54</th>\n      <td>96</td>\n      <td>5</td>\n      <td>0</td>\n      <td>2</td>\n      <td>6</td>\n      <td>33</td>\n      <td>0</td>\n      <td>30</td>\n      <td>54</td>\n      <td>0</td>\n      <td>...</td>\n      <td>0</td>\n      <td>0</td>\n      <td>0</td>\n      <td>1</td>\n      <td>0</td>\n      <td>0</td>\n      <td>1</td>\n      <td>0</td>\n      <td>0</td>\n      <td>0</td>\n    </tr>\n  </tbody>\n</table>\n<p>5 rows × 48 columns</p>\n</div>"
     },
     "execution_count": 13,
     "metadata": {},
     "output_type": "execute_result"
    }
   ],
   "source": [
    "print(\"cvDf:\")\n",
    "cvDf.info()\n",
    "cvDf.head()"
   ],
   "metadata": {
    "collapsed": false
   }
  },
  {
   "cell_type": "code",
   "execution_count": 14,
   "outputs": [
    {
     "name": "stdout",
     "output_type": "stream",
     "text": [
      "cvDfTarget:\n",
      "<class 'pandas.core.frame.DataFrame'>\n",
      "Int64Index: 27000 entries, 0 to 179996\n",
      "Data columns (total 2 columns):\n",
      " #   Column    Non-Null Count  Dtype\n",
      "---  ------    --------------  -----\n",
      " 0   ID        27000 non-null  int64\n",
      " 1   mutation  27000 non-null  int64\n",
      "dtypes: int64(2)\n",
      "memory usage: 632.8 KB\n"
     ]
    },
    {
     "data": {
      "text/plain": "    ID  mutation\n0    0         0\n27  48         1\n34  57         0\n36  59         0\n54  96         0",
      "text/html": "<div>\n<style scoped>\n    .dataframe tbody tr th:only-of-type {\n        vertical-align: middle;\n    }\n\n    .dataframe tbody tr th {\n        vertical-align: top;\n    }\n\n    .dataframe thead th {\n        text-align: right;\n    }\n</style>\n<table border=\"1\" class=\"dataframe\">\n  <thead>\n    <tr style=\"text-align: right;\">\n      <th></th>\n      <th>ID</th>\n      <th>mutation</th>\n    </tr>\n  </thead>\n  <tbody>\n    <tr>\n      <th>0</th>\n      <td>0</td>\n      <td>0</td>\n    </tr>\n    <tr>\n      <th>27</th>\n      <td>48</td>\n      <td>1</td>\n    </tr>\n    <tr>\n      <th>34</th>\n      <td>57</td>\n      <td>0</td>\n    </tr>\n    <tr>\n      <th>36</th>\n      <td>59</td>\n      <td>0</td>\n    </tr>\n    <tr>\n      <th>54</th>\n      <td>96</td>\n      <td>0</td>\n    </tr>\n  </tbody>\n</table>\n</div>"
     },
     "execution_count": 14,
     "metadata": {},
     "output_type": "execute_result"
    }
   ],
   "source": [
    "print(\"cvDfTarget:\")\n",
    "cvDfTarget.info()\n",
    "cvDfTarget.head()"
   ],
   "metadata": {
    "collapsed": false
   }
  },
  {
   "cell_type": "code",
   "execution_count": 15,
   "outputs": [
    {
     "name": "stdout",
     "output_type": "stream",
     "text": [
      "testDf:\n",
      "<class 'pandas.core.frame.DataFrame'>\n",
      "RangeIndex: 120000 entries, 0 to 119999\n",
      "Data columns (total 48 columns):\n",
      " #   Column                  Non-Null Count   Dtype  \n",
      "---  ------                  --------------   -----  \n",
      " 0   ID                      120000 non-null  int64  \n",
      " 1   A                       120000 non-null  int64  \n",
      " 2   B                       120000 non-null  int64  \n",
      " 3   C                       120000 non-null  int64  \n",
      " 4   D                       120000 non-null  int64  \n",
      " 5   E                       120000 non-null  int64  \n",
      " 6   F                       120000 non-null  int64  \n",
      " 7   G                       120000 non-null  int64  \n",
      " 8   H                       120000 non-null  int64  \n",
      " 9   I                       120000 non-null  int64  \n",
      " 10  J                       120000 non-null  int64  \n",
      " 11  K                       120000 non-null  float64\n",
      " 12  L                       120000 non-null  float64\n",
      " 13  M                       120000 non-null  float64\n",
      " 14  N                       120000 non-null  float64\n",
      " 15  O                       120000 non-null  float64\n",
      " 16  P                       120000 non-null  float64\n",
      " 17  Q                       120000 non-null  float64\n",
      " 18  R                       120000 non-null  float64\n",
      " 19  S                       120000 non-null  float64\n",
      " 20  T                       120000 non-null  float64\n",
      " 21  U                       120000 non-null  float64\n",
      " 22  sequence1_ATGCGCTTAATT  120000 non-null  uint8  \n",
      " 23  sequence1_GATCGTAGCTAA  120000 non-null  uint8  \n",
      " 24  sequence2_ATGCGCTTAATT  120000 non-null  uint8  \n",
      " 25  sequence2_GATCGTAGCTAA  120000 non-null  uint8  \n",
      " 26  sequence3_ATGCGCTTAATT  120000 non-null  uint8  \n",
      " 27  sequence3_GATCGTAGCTAA  120000 non-null  uint8  \n",
      " 28  sequence4_ATGCGCTTAATT  120000 non-null  uint8  \n",
      " 29  sequence4_GATCGTAGCTAA  120000 non-null  uint8  \n",
      " 30  sequence5_ATGCGCTTAATT  120000 non-null  uint8  \n",
      " 31  sequence5_GATCGTAGCTAA  120000 non-null  uint8  \n",
      " 32  sequence6_AAATCAGCTAAA  120000 non-null  uint8  \n",
      " 33  sequence6_ATTCCATATTTT  120000 non-null  uint8  \n",
      " 34  sequence6_GTCATGCACCCT  120000 non-null  uint8  \n",
      " 35  sequence6_TAACATACAGAG  120000 non-null  uint8  \n",
      " 36  sequence7_AAATCAGCTAAA  120000 non-null  uint8  \n",
      " 37  sequence7_ATTCCATATTTT  120000 non-null  uint8  \n",
      " 38  sequence7_GTCATGCACCCT  120000 non-null  uint8  \n",
      " 39  sequence7_TAACATACAGAG  120000 non-null  uint8  \n",
      " 40  sequence8_AAATCAGCTAAA  120000 non-null  uint8  \n",
      " 41  sequence8_ATTCCATATTTT  120000 non-null  uint8  \n",
      " 42  sequence8_GTCATGCACCCT  120000 non-null  uint8  \n",
      " 43  sequence8_TAACATACAGAG  120000 non-null  uint8  \n",
      " 44  sequence9_AAATCAGCTAAA  120000 non-null  uint8  \n",
      " 45  sequence9_ATTCCATATTTT  120000 non-null  uint8  \n",
      " 46  sequence9_GTCATGCACCCT  120000 non-null  uint8  \n",
      " 47  sequence9_TAACATACAGAG  120000 non-null  uint8  \n",
      "dtypes: float64(11), int64(11), uint8(26)\n",
      "memory usage: 23.1 MB\n"
     ]
    },
    {
     "data": {
      "text/plain": "   ID   A  B  C  D   E  F   G   H  I  ...  sequence7_GTCATGCACCCT  \\\n0   1   8  0  0  4  33  8  48   3  5  ...                       0   \n1   3  10  0  2  4  33  0  50   3  5  ...                       0   \n2   4   8  6  1  4  33  2  32  54  0  ...                       0   \n3   6   0  6  0  7  33  0  44   3  4  ...                       0   \n4   8   8  0  0  4  33  2  11   4  4  ...                       0   \n\n   sequence7_TAACATACAGAG  sequence8_AAATCAGCTAAA  sequence8_ATTCCATATTTT  \\\n0                       0                       0                       1   \n1                       0                       0                       1   \n2                       0                       0                       1   \n3                       0                       0                       1   \n4                       0                       0                       1   \n\n   sequence8_GTCATGCACCCT  sequence8_TAACATACAGAG  sequence9_AAATCAGCTAAA  \\\n0                       0                       0                       1   \n1                       0                       0                       1   \n2                       0                       0                       1   \n3                       0                       0                       1   \n4                       0                       0                       1   \n\n   sequence9_ATTCCATATTTT  sequence9_GTCATGCACCCT  sequence9_TAACATACAGAG  \n0                       0                       0                       0  \n1                       0                       0                       0  \n2                       0                       0                       0  \n3                       0                       0                       0  \n4                       0                       0                       0  \n\n[5 rows x 48 columns]",
      "text/html": "<div>\n<style scoped>\n    .dataframe tbody tr th:only-of-type {\n        vertical-align: middle;\n    }\n\n    .dataframe tbody tr th {\n        vertical-align: top;\n    }\n\n    .dataframe thead th {\n        text-align: right;\n    }\n</style>\n<table border=\"1\" class=\"dataframe\">\n  <thead>\n    <tr style=\"text-align: right;\">\n      <th></th>\n      <th>ID</th>\n      <th>A</th>\n      <th>B</th>\n      <th>C</th>\n      <th>D</th>\n      <th>E</th>\n      <th>F</th>\n      <th>G</th>\n      <th>H</th>\n      <th>I</th>\n      <th>...</th>\n      <th>sequence7_GTCATGCACCCT</th>\n      <th>sequence7_TAACATACAGAG</th>\n      <th>sequence8_AAATCAGCTAAA</th>\n      <th>sequence8_ATTCCATATTTT</th>\n      <th>sequence8_GTCATGCACCCT</th>\n      <th>sequence8_TAACATACAGAG</th>\n      <th>sequence9_AAATCAGCTAAA</th>\n      <th>sequence9_ATTCCATATTTT</th>\n      <th>sequence9_GTCATGCACCCT</th>\n      <th>sequence9_TAACATACAGAG</th>\n    </tr>\n  </thead>\n  <tbody>\n    <tr>\n      <th>0</th>\n      <td>1</td>\n      <td>8</td>\n      <td>0</td>\n      <td>0</td>\n      <td>4</td>\n      <td>33</td>\n      <td>8</td>\n      <td>48</td>\n      <td>3</td>\n      <td>5</td>\n      <td>...</td>\n      <td>0</td>\n      <td>0</td>\n      <td>0</td>\n      <td>1</td>\n      <td>0</td>\n      <td>0</td>\n      <td>1</td>\n      <td>0</td>\n      <td>0</td>\n      <td>0</td>\n    </tr>\n    <tr>\n      <th>1</th>\n      <td>3</td>\n      <td>10</td>\n      <td>0</td>\n      <td>2</td>\n      <td>4</td>\n      <td>33</td>\n      <td>0</td>\n      <td>50</td>\n      <td>3</td>\n      <td>5</td>\n      <td>...</td>\n      <td>0</td>\n      <td>0</td>\n      <td>0</td>\n      <td>1</td>\n      <td>0</td>\n      <td>0</td>\n      <td>1</td>\n      <td>0</td>\n      <td>0</td>\n      <td>0</td>\n    </tr>\n    <tr>\n      <th>2</th>\n      <td>4</td>\n      <td>8</td>\n      <td>6</td>\n      <td>1</td>\n      <td>4</td>\n      <td>33</td>\n      <td>2</td>\n      <td>32</td>\n      <td>54</td>\n      <td>0</td>\n      <td>...</td>\n      <td>0</td>\n      <td>0</td>\n      <td>0</td>\n      <td>1</td>\n      <td>0</td>\n      <td>0</td>\n      <td>1</td>\n      <td>0</td>\n      <td>0</td>\n      <td>0</td>\n    </tr>\n    <tr>\n      <th>3</th>\n      <td>6</td>\n      <td>0</td>\n      <td>6</td>\n      <td>0</td>\n      <td>7</td>\n      <td>33</td>\n      <td>0</td>\n      <td>44</td>\n      <td>3</td>\n      <td>4</td>\n      <td>...</td>\n      <td>0</td>\n      <td>0</td>\n      <td>0</td>\n      <td>1</td>\n      <td>0</td>\n      <td>0</td>\n      <td>1</td>\n      <td>0</td>\n      <td>0</td>\n      <td>0</td>\n    </tr>\n    <tr>\n      <th>4</th>\n      <td>8</td>\n      <td>8</td>\n      <td>0</td>\n      <td>0</td>\n      <td>4</td>\n      <td>33</td>\n      <td>2</td>\n      <td>11</td>\n      <td>4</td>\n      <td>4</td>\n      <td>...</td>\n      <td>0</td>\n      <td>0</td>\n      <td>0</td>\n      <td>1</td>\n      <td>0</td>\n      <td>0</td>\n      <td>1</td>\n      <td>0</td>\n      <td>0</td>\n      <td>0</td>\n    </tr>\n  </tbody>\n</table>\n<p>5 rows × 48 columns</p>\n</div>"
     },
     "execution_count": 15,
     "metadata": {},
     "output_type": "execute_result"
    }
   ],
   "source": [
    "print(\"testDf:\")\n",
    "testDf.info()\n",
    "testDf.head()"
   ],
   "metadata": {
    "collapsed": false
   }
  },
  {
   "cell_type": "code",
   "execution_count": null,
   "metadata": {},
   "outputs": [],
   "source": [
    "# 6. Подумать над вариантом модели, для того чтобы решить задачу (либо ансамблем моделей)"
   ]
  },
  {
   "cell_type": "code",
   "execution_count": null,
   "metadata": {},
   "outputs": [],
   "source": [
    "# 7. Подумать нужно ли применять Unsupervised learning подход для решения задачи?\n",
    "# Неоходима ли дополнительная информация?"
   ]
  },
  {
   "cell_type": "code",
   "execution_count": null,
   "metadata": {},
   "outputs": [],
   "source": [
    "# 8. Обучить модель и вывести валидационный скор по метрике качества."
   ]
  },
  {
   "cell_type": "code",
   "execution_count": null,
   "metadata": {},
   "outputs": [],
   "source": [
    "# 9. Построить отчет на 10 предложнений."
   ]
  },
  {
   "cell_type": "code",
   "execution_count": null,
   "metadata": {},
   "outputs": [],
   "source": [
    "# 10. Выйти и объяснить подход к решению задачи."
   ]
  }
 ],
 "metadata": {
  "kernelspec": {
   "display_name": "Python 3 (ipykernel)",
   "language": "python",
   "name": "python3"
  },
  "language_info": {
   "codemirror_mode": {
    "name": "ipython",
    "version": 3
   },
   "file_extension": ".py",
   "mimetype": "text/x-python",
   "name": "python",
   "nbconvert_exporter": "python",
   "pygments_lexer": "ipython3",
   "version": "3.10.4"
  }
 },
 "nbformat": 4,
 "nbformat_minor": 1
}
