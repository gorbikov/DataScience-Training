{
 "cells": [
  {
   "cell_type": "code",
   "execution_count": 42,
   "metadata": {},
   "outputs": [],
   "source": [
    "# Настраиваем импорты.\n",
    "import pandas as pd\n",
    "import numpy as np\n",
    "import matplotlib\n",
    "import matplotlib.pyplot as plt\n",
    "import seaborn as sns\n",
    "import missingno"
   ]
  },
  {
   "cell_type": "code",
   "execution_count": 43,
   "outputs": [],
   "source": [
    "# Включаем интерактивный режим (для отображения графиков.\n",
    "%matplotlib inline"
   ],
   "metadata": {
    "collapsed": false
   }
  },
  {
   "cell_type": "code",
   "execution_count": 44,
   "outputs": [],
   "source": [
    "# Вводные.\n",
    "trainPath = 'data/exam_module_4/1_variant_dna_sequence_mutation_prediction/input/train.csv'\n",
    "testPath = 'data/exam_module_4/1_variant_dna_sequence_mutation_prediction/input/test.csv'\n",
    "cvFraction = 0.15\n",
    "randomCeed = 777"
   ],
   "metadata": {
    "collapsed": false
   }
  },
  {
   "cell_type": "code",
   "execution_count": 45,
   "metadata": {},
   "outputs": [],
   "source": [
    "# 1. Определяем тип задачи."
   ]
  },
  {
   "cell_type": "code",
   "execution_count": 46,
   "outputs": [
    {
     "name": "stdout",
     "output_type": "stream",
     "text": [
      "Task type: logistic regression or SVM\n"
     ]
    }
   ],
   "source": [
    "print('Task type: logistic regression or SVM')"
   ],
   "metadata": {
    "collapsed": false
   }
  },
  {
   "cell_type": "code",
   "execution_count": 47,
   "metadata": {},
   "outputs": [],
   "source": [
    "# 2. Создаём фреймы и выделяем часть датасета на CV."
   ]
  },
  {
   "cell_type": "code",
   "execution_count": 48,
   "outputs": [
    {
     "name": "stdout",
     "output_type": "stream",
     "text": [
      "<class 'pandas.core.frame.DataFrame'>\n",
      "Int64Index: 180000 entries, 0 to 299999\n",
      "Data columns (total 31 columns):\n",
      " #   Column     Non-Null Count   Dtype  \n",
      "---  ------     --------------   -----  \n",
      " 0   sequence1  180000 non-null  object \n",
      " 1   sequence2  180000 non-null  object \n",
      " 2   sequence3  180000 non-null  object \n",
      " 3   sequence4  180000 non-null  object \n",
      " 4   sequence5  180000 non-null  object \n",
      " 5   sequence6  180000 non-null  object \n",
      " 6   sequence7  180000 non-null  object \n",
      " 7   sequence8  180000 non-null  object \n",
      " 8   sequence9  180000 non-null  object \n",
      " 9   A          180000 non-null  int64  \n",
      " 10  B          180000 non-null  int64  \n",
      " 11  C          180000 non-null  int64  \n",
      " 12  D          180000 non-null  int64  \n",
      " 13  E          180000 non-null  int64  \n",
      " 14  F          180000 non-null  int64  \n",
      " 15  G          180000 non-null  int64  \n",
      " 16  H          180000 non-null  int64  \n",
      " 17  I          180000 non-null  int64  \n",
      " 18  J          180000 non-null  int64  \n",
      " 19  K          180000 non-null  float64\n",
      " 20  L          180000 non-null  float64\n",
      " 21  M          180000 non-null  float64\n",
      " 22  N          180000 non-null  float64\n",
      " 23  O          180000 non-null  float64\n",
      " 24  P          180000 non-null  float64\n",
      " 25  Q          180000 non-null  float64\n",
      " 26  R          180000 non-null  float64\n",
      " 27  S          180000 non-null  float64\n",
      " 28  T          180000 non-null  float64\n",
      " 29  U          180000 non-null  float64\n",
      " 30  mutation   180000 non-null  int64  \n",
      "dtypes: float64(11), int64(11), object(9)\n",
      "memory usage: 43.9+ MB\n"
     ]
    },
    {
     "data": {
      "text/plain": "       sequence1     sequence2     sequence3     sequence4     sequence5  \\\nID                                                                         \n0   ATGCGCTTAATT  ATGCGCTTAATT  ATGCGCTTAATT  ATGCGCTTAATT  ATGCGCTTAATT   \n2   ATGCGCTTAATT  ATGCGCTTAATT  GATCGTAGCTAA  ATGCGCTTAATT  ATGCGCTTAATT   \n5   ATGCGCTTAATT  ATGCGCTTAATT  ATGCGCTTAATT  ATGCGCTTAATT  ATGCGCTTAATT   \n7   ATGCGCTTAATT  ATGCGCTTAATT  ATGCGCTTAATT  ATGCGCTTAATT  ATGCGCTTAATT   \n9   ATGCGCTTAATT  GATCGTAGCTAA  ATGCGCTTAATT  GATCGTAGCTAA  GATCGTAGCTAA   \n\n       sequence6     sequence7     sequence8     sequence9   A  ...         M  \\\nID                                                              ...             \n0   AAATCAGCTAAA  ATTCCATATTTT  ATTCCATATTTT  AAATCAGCTAAA   8  ...  0.759439   \n2   AAATCAGCTAAA  ATTCCATATTTT  ATTCCATATTTT  AAATCAGCTAAA  10  ...  0.343255   \n5   AAATCAGCTAAA  ATTCCATATTTT  ATTCCATATTTT  AAATCAGCTAAA   8  ...  0.524760   \n7   ATTCCATATTTT  AAATCAGCTAAA  TAACATACAGAG  TAACATACAGAG   5  ...  0.943545   \n9   ATTCCATATTTT  AAATCAGCTAAA  ATTCCATATTTT  TAACATACAGAG  11  ...  0.397622   \n\n           N         O         P         Q         R         S         T  \\\nID                                                                         \n0   0.795549  0.681917  0.621672  0.592184  0.791921  0.815254  0.965006   \n2   0.616352  0.793687  0.552877  0.352113  0.388835  0.412303  0.292696   \n5   0.580085  0.301498  0.261055  0.193988  0.935688  0.685868  0.277694   \n7   0.209744  0.670577  0.772650  0.845751  0.507320  0.927204  0.605755   \n9   0.506096  0.200673  0.734145  0.521673  0.365571  0.416094  0.584799   \n\n           U  mutation  \nID                      \n0   0.665915         0  \n2   0.549452         0  \n5   0.428115         0  \n7   0.454155         1  \n9   0.447149         1  \n\n[5 rows x 31 columns]",
      "text/html": "<div>\n<style scoped>\n    .dataframe tbody tr th:only-of-type {\n        vertical-align: middle;\n    }\n\n    .dataframe tbody tr th {\n        vertical-align: top;\n    }\n\n    .dataframe thead th {\n        text-align: right;\n    }\n</style>\n<table border=\"1\" class=\"dataframe\">\n  <thead>\n    <tr style=\"text-align: right;\">\n      <th></th>\n      <th>sequence1</th>\n      <th>sequence2</th>\n      <th>sequence3</th>\n      <th>sequence4</th>\n      <th>sequence5</th>\n      <th>sequence6</th>\n      <th>sequence7</th>\n      <th>sequence8</th>\n      <th>sequence9</th>\n      <th>A</th>\n      <th>...</th>\n      <th>M</th>\n      <th>N</th>\n      <th>O</th>\n      <th>P</th>\n      <th>Q</th>\n      <th>R</th>\n      <th>S</th>\n      <th>T</th>\n      <th>U</th>\n      <th>mutation</th>\n    </tr>\n    <tr>\n      <th>ID</th>\n      <th></th>\n      <th></th>\n      <th></th>\n      <th></th>\n      <th></th>\n      <th></th>\n      <th></th>\n      <th></th>\n      <th></th>\n      <th></th>\n      <th></th>\n      <th></th>\n      <th></th>\n      <th></th>\n      <th></th>\n      <th></th>\n      <th></th>\n      <th></th>\n      <th></th>\n      <th></th>\n      <th></th>\n    </tr>\n  </thead>\n  <tbody>\n    <tr>\n      <th>0</th>\n      <td>ATGCGCTTAATT</td>\n      <td>ATGCGCTTAATT</td>\n      <td>ATGCGCTTAATT</td>\n      <td>ATGCGCTTAATT</td>\n      <td>ATGCGCTTAATT</td>\n      <td>AAATCAGCTAAA</td>\n      <td>ATTCCATATTTT</td>\n      <td>ATTCCATATTTT</td>\n      <td>AAATCAGCTAAA</td>\n      <td>8</td>\n      <td>...</td>\n      <td>0.759439</td>\n      <td>0.795549</td>\n      <td>0.681917</td>\n      <td>0.621672</td>\n      <td>0.592184</td>\n      <td>0.791921</td>\n      <td>0.815254</td>\n      <td>0.965006</td>\n      <td>0.665915</td>\n      <td>0</td>\n    </tr>\n    <tr>\n      <th>2</th>\n      <td>ATGCGCTTAATT</td>\n      <td>ATGCGCTTAATT</td>\n      <td>GATCGTAGCTAA</td>\n      <td>ATGCGCTTAATT</td>\n      <td>ATGCGCTTAATT</td>\n      <td>AAATCAGCTAAA</td>\n      <td>ATTCCATATTTT</td>\n      <td>ATTCCATATTTT</td>\n      <td>AAATCAGCTAAA</td>\n      <td>10</td>\n      <td>...</td>\n      <td>0.343255</td>\n      <td>0.616352</td>\n      <td>0.793687</td>\n      <td>0.552877</td>\n      <td>0.352113</td>\n      <td>0.388835</td>\n      <td>0.412303</td>\n      <td>0.292696</td>\n      <td>0.549452</td>\n      <td>0</td>\n    </tr>\n    <tr>\n      <th>5</th>\n      <td>ATGCGCTTAATT</td>\n      <td>ATGCGCTTAATT</td>\n      <td>ATGCGCTTAATT</td>\n      <td>ATGCGCTTAATT</td>\n      <td>ATGCGCTTAATT</td>\n      <td>AAATCAGCTAAA</td>\n      <td>ATTCCATATTTT</td>\n      <td>ATTCCATATTTT</td>\n      <td>AAATCAGCTAAA</td>\n      <td>8</td>\n      <td>...</td>\n      <td>0.524760</td>\n      <td>0.580085</td>\n      <td>0.301498</td>\n      <td>0.261055</td>\n      <td>0.193988</td>\n      <td>0.935688</td>\n      <td>0.685868</td>\n      <td>0.277694</td>\n      <td>0.428115</td>\n      <td>0</td>\n    </tr>\n    <tr>\n      <th>7</th>\n      <td>ATGCGCTTAATT</td>\n      <td>ATGCGCTTAATT</td>\n      <td>ATGCGCTTAATT</td>\n      <td>ATGCGCTTAATT</td>\n      <td>ATGCGCTTAATT</td>\n      <td>ATTCCATATTTT</td>\n      <td>AAATCAGCTAAA</td>\n      <td>TAACATACAGAG</td>\n      <td>TAACATACAGAG</td>\n      <td>5</td>\n      <td>...</td>\n      <td>0.943545</td>\n      <td>0.209744</td>\n      <td>0.670577</td>\n      <td>0.772650</td>\n      <td>0.845751</td>\n      <td>0.507320</td>\n      <td>0.927204</td>\n      <td>0.605755</td>\n      <td>0.454155</td>\n      <td>1</td>\n    </tr>\n    <tr>\n      <th>9</th>\n      <td>ATGCGCTTAATT</td>\n      <td>GATCGTAGCTAA</td>\n      <td>ATGCGCTTAATT</td>\n      <td>GATCGTAGCTAA</td>\n      <td>GATCGTAGCTAA</td>\n      <td>ATTCCATATTTT</td>\n      <td>AAATCAGCTAAA</td>\n      <td>ATTCCATATTTT</td>\n      <td>TAACATACAGAG</td>\n      <td>11</td>\n      <td>...</td>\n      <td>0.397622</td>\n      <td>0.506096</td>\n      <td>0.200673</td>\n      <td>0.734145</td>\n      <td>0.521673</td>\n      <td>0.365571</td>\n      <td>0.416094</td>\n      <td>0.584799</td>\n      <td>0.447149</td>\n      <td>1</td>\n    </tr>\n  </tbody>\n</table>\n<p>5 rows × 31 columns</p>\n</div>"
     },
     "execution_count": 48,
     "metadata": {},
     "output_type": "execute_result"
    }
   ],
   "source": [
    "#Смотрим огригинальные тренировочные данные.\n",
    "originalTrainDf = pd.read_csv(trainPath, index_col='ID')\n",
    "originalTrainDf.info()\n",
    "originalTrainDf.head()"
   ],
   "metadata": {
    "collapsed": false
   }
  },
  {
   "cell_type": "code",
   "execution_count": 49,
   "outputs": [
    {
     "name": "stdout",
     "output_type": "stream",
     "text": [
      "<class 'pandas.core.frame.DataFrame'>\n",
      "Int64Index: 120000 entries, 1 to 299992\n",
      "Data columns (total 30 columns):\n",
      " #   Column     Non-Null Count   Dtype  \n",
      "---  ------     --------------   -----  \n",
      " 0   sequence1  120000 non-null  object \n",
      " 1   sequence2  120000 non-null  object \n",
      " 2   sequence3  120000 non-null  object \n",
      " 3   sequence4  120000 non-null  object \n",
      " 4   sequence5  120000 non-null  object \n",
      " 5   sequence6  120000 non-null  object \n",
      " 6   sequence7  120000 non-null  object \n",
      " 7   sequence8  120000 non-null  object \n",
      " 8   sequence9  120000 non-null  object \n",
      " 9   A          120000 non-null  int64  \n",
      " 10  B          120000 non-null  int64  \n",
      " 11  C          120000 non-null  int64  \n",
      " 12  D          120000 non-null  int64  \n",
      " 13  E          120000 non-null  int64  \n",
      " 14  F          120000 non-null  int64  \n",
      " 15  G          120000 non-null  int64  \n",
      " 16  H          120000 non-null  int64  \n",
      " 17  I          120000 non-null  int64  \n",
      " 18  J          120000 non-null  int64  \n",
      " 19  K          120000 non-null  float64\n",
      " 20  L          120000 non-null  float64\n",
      " 21  M          120000 non-null  float64\n",
      " 22  N          120000 non-null  float64\n",
      " 23  O          120000 non-null  float64\n",
      " 24  P          120000 non-null  float64\n",
      " 25  Q          120000 non-null  float64\n",
      " 26  R          120000 non-null  float64\n",
      " 27  S          120000 non-null  float64\n",
      " 28  T          120000 non-null  float64\n",
      " 29  U          120000 non-null  float64\n",
      "dtypes: float64(11), int64(10), object(9)\n",
      "memory usage: 28.4+ MB\n"
     ]
    },
    {
     "data": {
      "text/plain": "       sequence1     sequence2     sequence3     sequence4     sequence5  \\\nID                                                                         \n1   ATGCGCTTAATT  ATGCGCTTAATT  GATCGTAGCTAA  ATGCGCTTAATT  GATCGTAGCTAA   \n3   ATGCGCTTAATT  ATGCGCTTAATT  ATGCGCTTAATT  ATGCGCTTAATT  ATGCGCTTAATT   \n4   ATGCGCTTAATT  ATGCGCTTAATT  ATGCGCTTAATT  ATGCGCTTAATT  GATCGTAGCTAA   \n6   ATGCGCTTAATT  ATGCGCTTAATT  ATGCGCTTAATT  ATGCGCTTAATT  GATCGTAGCTAA   \n8   GATCGTAGCTAA  ATGCGCTTAATT  ATGCGCTTAATT  ATGCGCTTAATT  ATGCGCTTAATT   \n\n       sequence6     sequence7     sequence8     sequence9   A  ...         L  \\\nID                                                              ...             \n1   ATTCCATATTTT  AAATCAGCTAAA  ATTCCATATTTT  AAATCAGCTAAA   8  ...  0.328929   \n3   AAATCAGCTAAA  ATTCCATATTTT  ATTCCATATTTT  AAATCAGCTAAA  10  ...  0.707663   \n4   AAATCAGCTAAA  AAATCAGCTAAA  ATTCCATATTTT  AAATCAGCTAAA   8  ...  0.274514   \n6   ATTCCATATTTT  ATTCCATATTTT  ATTCCATATTTT  AAATCAGCTAAA   0  ...  0.707840   \n8   AAATCAGCTAAA  ATTCCATATTTT  ATTCCATATTTT  AAATCAGCTAAA   8  ...  0.664718   \n\n           M         N         O         P         Q         R         S  \\\nID                                                                         \n1   0.386385  0.541366  0.388982  0.357778  0.600044  0.408701  0.399353   \n3   0.831147  0.807807  0.800032  0.619147  0.221789  0.897617  0.633669   \n4   0.338818  0.277308  0.610578  0.128291  0.578764  0.279167  0.351103   \n6   0.678466  0.747125  0.678212  0.553609  0.281719  0.768782  0.688580   \n8   0.635195  0.672264  0.561127  0.419873  0.508550  0.673267  0.356103   \n\n           T         U  \nID                      \n1   0.927406  0.493729  \n3   0.760318  0.934242  \n4   0.357084  0.328960  \n6   0.320699  0.642256  \n8   0.471519  0.499554  \n\n[5 rows x 30 columns]",
      "text/html": "<div>\n<style scoped>\n    .dataframe tbody tr th:only-of-type {\n        vertical-align: middle;\n    }\n\n    .dataframe tbody tr th {\n        vertical-align: top;\n    }\n\n    .dataframe thead th {\n        text-align: right;\n    }\n</style>\n<table border=\"1\" class=\"dataframe\">\n  <thead>\n    <tr style=\"text-align: right;\">\n      <th></th>\n      <th>sequence1</th>\n      <th>sequence2</th>\n      <th>sequence3</th>\n      <th>sequence4</th>\n      <th>sequence5</th>\n      <th>sequence6</th>\n      <th>sequence7</th>\n      <th>sequence8</th>\n      <th>sequence9</th>\n      <th>A</th>\n      <th>...</th>\n      <th>L</th>\n      <th>M</th>\n      <th>N</th>\n      <th>O</th>\n      <th>P</th>\n      <th>Q</th>\n      <th>R</th>\n      <th>S</th>\n      <th>T</th>\n      <th>U</th>\n    </tr>\n    <tr>\n      <th>ID</th>\n      <th></th>\n      <th></th>\n      <th></th>\n      <th></th>\n      <th></th>\n      <th></th>\n      <th></th>\n      <th></th>\n      <th></th>\n      <th></th>\n      <th></th>\n      <th></th>\n      <th></th>\n      <th></th>\n      <th></th>\n      <th></th>\n      <th></th>\n      <th></th>\n      <th></th>\n      <th></th>\n      <th></th>\n    </tr>\n  </thead>\n  <tbody>\n    <tr>\n      <th>1</th>\n      <td>ATGCGCTTAATT</td>\n      <td>ATGCGCTTAATT</td>\n      <td>GATCGTAGCTAA</td>\n      <td>ATGCGCTTAATT</td>\n      <td>GATCGTAGCTAA</td>\n      <td>ATTCCATATTTT</td>\n      <td>AAATCAGCTAAA</td>\n      <td>ATTCCATATTTT</td>\n      <td>AAATCAGCTAAA</td>\n      <td>8</td>\n      <td>...</td>\n      <td>0.328929</td>\n      <td>0.386385</td>\n      <td>0.541366</td>\n      <td>0.388982</td>\n      <td>0.357778</td>\n      <td>0.600044</td>\n      <td>0.408701</td>\n      <td>0.399353</td>\n      <td>0.927406</td>\n      <td>0.493729</td>\n    </tr>\n    <tr>\n      <th>3</th>\n      <td>ATGCGCTTAATT</td>\n      <td>ATGCGCTTAATT</td>\n      <td>ATGCGCTTAATT</td>\n      <td>ATGCGCTTAATT</td>\n      <td>ATGCGCTTAATT</td>\n      <td>AAATCAGCTAAA</td>\n      <td>ATTCCATATTTT</td>\n      <td>ATTCCATATTTT</td>\n      <td>AAATCAGCTAAA</td>\n      <td>10</td>\n      <td>...</td>\n      <td>0.707663</td>\n      <td>0.831147</td>\n      <td>0.807807</td>\n      <td>0.800032</td>\n      <td>0.619147</td>\n      <td>0.221789</td>\n      <td>0.897617</td>\n      <td>0.633669</td>\n      <td>0.760318</td>\n      <td>0.934242</td>\n    </tr>\n    <tr>\n      <th>4</th>\n      <td>ATGCGCTTAATT</td>\n      <td>ATGCGCTTAATT</td>\n      <td>ATGCGCTTAATT</td>\n      <td>ATGCGCTTAATT</td>\n      <td>GATCGTAGCTAA</td>\n      <td>AAATCAGCTAAA</td>\n      <td>AAATCAGCTAAA</td>\n      <td>ATTCCATATTTT</td>\n      <td>AAATCAGCTAAA</td>\n      <td>8</td>\n      <td>...</td>\n      <td>0.274514</td>\n      <td>0.338818</td>\n      <td>0.277308</td>\n      <td>0.610578</td>\n      <td>0.128291</td>\n      <td>0.578764</td>\n      <td>0.279167</td>\n      <td>0.351103</td>\n      <td>0.357084</td>\n      <td>0.328960</td>\n    </tr>\n    <tr>\n      <th>6</th>\n      <td>ATGCGCTTAATT</td>\n      <td>ATGCGCTTAATT</td>\n      <td>ATGCGCTTAATT</td>\n      <td>ATGCGCTTAATT</td>\n      <td>GATCGTAGCTAA</td>\n      <td>ATTCCATATTTT</td>\n      <td>ATTCCATATTTT</td>\n      <td>ATTCCATATTTT</td>\n      <td>AAATCAGCTAAA</td>\n      <td>0</td>\n      <td>...</td>\n      <td>0.707840</td>\n      <td>0.678466</td>\n      <td>0.747125</td>\n      <td>0.678212</td>\n      <td>0.553609</td>\n      <td>0.281719</td>\n      <td>0.768782</td>\n      <td>0.688580</td>\n      <td>0.320699</td>\n      <td>0.642256</td>\n    </tr>\n    <tr>\n      <th>8</th>\n      <td>GATCGTAGCTAA</td>\n      <td>ATGCGCTTAATT</td>\n      <td>ATGCGCTTAATT</td>\n      <td>ATGCGCTTAATT</td>\n      <td>ATGCGCTTAATT</td>\n      <td>AAATCAGCTAAA</td>\n      <td>ATTCCATATTTT</td>\n      <td>ATTCCATATTTT</td>\n      <td>AAATCAGCTAAA</td>\n      <td>8</td>\n      <td>...</td>\n      <td>0.664718</td>\n      <td>0.635195</td>\n      <td>0.672264</td>\n      <td>0.561127</td>\n      <td>0.419873</td>\n      <td>0.508550</td>\n      <td>0.673267</td>\n      <td>0.356103</td>\n      <td>0.471519</td>\n      <td>0.499554</td>\n    </tr>\n  </tbody>\n</table>\n<p>5 rows × 30 columns</p>\n</div>"
     },
     "execution_count": 49,
     "metadata": {},
     "output_type": "execute_result"
    }
   ],
   "source": [
    "#Смотрим огригинальные тренировочные данные.\n",
    "originalTestDf = pd.read_csv(testPath, index_col='ID')\n",
    "originalTestDf.info()\n",
    "originalTestDf.head()"
   ],
   "metadata": {
    "collapsed": false
   }
  },
  {
   "cell_type": "code",
   "execution_count": 50,
   "outputs": [],
   "source": [
    "#Формируем датафреймы из псевдорандомных выборок.\n",
    "trainDf = originalTrainDf.sample(frac=(1 - cvFraction), random_state=randomCeed).drop('mutation', axis=1)\n",
    "trainDfTarget = originalTrainDf.sample(frac=(1 - cvFraction), random_state=randomCeed)[['mutation']]\n",
    "cvDf = originalTrainDf.drop(trainDf.index).drop('mutation', axis=1)\n",
    "cvDfTarget = originalTrainDf.drop(trainDfTarget.index)[['mutation']]\n",
    "testDf = originalTestDf"
   ],
   "metadata": {
    "collapsed": false
   }
  },
  {
   "cell_type": "code",
   "execution_count": 51,
   "outputs": [
    {
     "name": "stdout",
     "output_type": "stream",
     "text": [
      "Train data:\n"
     ]
    },
    {
     "data": {
      "text/plain": "(153000, 30)"
     },
     "execution_count": 51,
     "metadata": {},
     "output_type": "execute_result"
    }
   ],
   "source": [
    "print('Train data:')\n",
    "trainDf.shape"
   ],
   "metadata": {
    "collapsed": false
   }
  },
  {
   "cell_type": "code",
   "execution_count": 52,
   "outputs": [
    {
     "name": "stdout",
     "output_type": "stream",
     "text": [
      "Train target data:\n"
     ]
    },
    {
     "data": {
      "text/plain": "(153000, 1)"
     },
     "execution_count": 52,
     "metadata": {},
     "output_type": "execute_result"
    }
   ],
   "source": [
    "print('Train target data:')\n",
    "trainDfTarget.shape"
   ],
   "metadata": {
    "collapsed": false
   }
  },
  {
   "cell_type": "code",
   "execution_count": 53,
   "outputs": [
    {
     "name": "stdout",
     "output_type": "stream",
     "text": [
      "CV data:\n"
     ]
    },
    {
     "data": {
      "text/plain": "(27000, 30)"
     },
     "execution_count": 53,
     "metadata": {},
     "output_type": "execute_result"
    }
   ],
   "source": [
    "print('CV data:')\n",
    "cvDf.shape"
   ],
   "metadata": {
    "collapsed": false
   }
  },
  {
   "cell_type": "code",
   "execution_count": 54,
   "outputs": [
    {
     "name": "stdout",
     "output_type": "stream",
     "text": [
      "CV target data:\n"
     ]
    },
    {
     "data": {
      "text/plain": "(27000, 1)"
     },
     "execution_count": 54,
     "metadata": {},
     "output_type": "execute_result"
    }
   ],
   "source": [
    "print('CV target data:')\n",
    "cvDfTarget.shape"
   ],
   "metadata": {
    "collapsed": false
   }
  },
  {
   "cell_type": "code",
   "execution_count": 55,
   "outputs": [
    {
     "name": "stdout",
     "output_type": "stream",
     "text": [
      "Test data:\n"
     ]
    },
    {
     "data": {
      "text/plain": "(120000, 30)"
     },
     "execution_count": 55,
     "metadata": {},
     "output_type": "execute_result"
    }
   ],
   "source": [
    "print('Test data:')\n",
    "testDf.shape"
   ],
   "metadata": {
    "collapsed": false
   }
  },
  {
   "cell_type": "code",
   "execution_count": null,
   "metadata": {},
   "outputs": [],
   "source": [
    "# 3. Определяем тип переменных в датасете."
   ]
  },
  {
   "cell_type": "code",
   "execution_count": null,
   "outputs": [],
   "source": [
    "print('Train data types:')\n",
    "trainDf.info()\n",
    "print('Train target data types:')\n",
    "trainDfTarget.info()"
   ],
   "metadata": {
    "collapsed": false
   }
  },
  {
   "cell_type": "code",
   "execution_count": null,
   "metadata": {},
   "outputs": [],
   "source": [
    "# 4. Если это необходимо провести препроцессинг данных, нужно ли применять алгоритмы понижения размерности?\n",
    "# Нужно ли убирать аномалии?"
   ]
  },
  {
   "cell_type": "code",
   "execution_count": null,
   "outputs": [],
   "source": [
    "# Переводим первые 9 столбцов в цифры (по методу one-hot, one-hot столбцы добавляются в конце датафрейма).\n",
    "dummieCounter = 0\n",
    "for col in trainDf.columns:\n",
    "    if trainDf[col].dtypes == object:\n",
    "        dummieCounter += len(trainDf[col].unique())\n",
    "        print('Unique in ' + str(col) + ': ' + str(len(trainDf[col].unique())))\n",
    "print('Dummie columns: ' + str(dummieCounter))\n",
    "\n",
    "trainDf = pd.get_dummies(trainDf)\n",
    "cvDf = pd.get_dummies(cvDf)\n",
    "testDf = pd.get_dummies(testDf)"
   ],
   "metadata": {
    "collapsed": false
   }
  },
  {
   "cell_type": "code",
   "execution_count": null,
   "outputs": [],
   "source": [
    "print(\"TrainDF: \")\n",
    "trainDf.shape"
   ],
   "metadata": {
    "collapsed": false
   }
  },
  {
   "cell_type": "code",
   "execution_count": null,
   "outputs": [],
   "source": [
    "print('CvDF: ')\n",
    "cvDf.shape"
   ],
   "metadata": {
    "collapsed": false
   }
  },
  {
   "cell_type": "code",
   "execution_count": null,
   "outputs": [],
   "source": [
    "print(\"TestDF: \")\n",
    "testDf.shape"
   ],
   "metadata": {
    "collapsed": false
   }
  },
  {
   "cell_type": "code",
   "execution_count": null,
   "outputs": [],
   "source": [
    "def time_series_plot(df):\n",
    "    \"\"\"Given dataframe, generate times series plot of numeric data by daily, monthly and yearly frequency\"\"\"\n",
    "    print(\"\\nTo check time series of numeric data  by daily, monthly and yearly frequency\")\n",
    "    if len(df.select_dtypes(include='datetime64').columns) > 0:\n",
    "        for col in df.select_dtypes(include='datetime64').columns:\n",
    "            for p in ['D', 'M', 'Y']:\n",
    "                if p == 'D':\n",
    "                    print(\"Plotting daily data\")\n",
    "                elif p == 'M':\n",
    "                    print(\"Plotting monthly data\")\n",
    "                else:\n",
    "                    print(\"Plotting yearly data\")\n",
    "                for col_num in df.select_dtypes(include=np.number).columns:\n",
    "                    __ = df.copy()\n",
    "                    __ = __.set_index(col)\n",
    "                    __T = __.resample(p).sum()\n",
    "                    ax = __T[[col_num]].plot()\n",
    "                    ax.set_ylim(bottom=0)\n",
    "                    ax.get_yaxis().set_major_formatter(\n",
    "                        matplotlib.ticker.FuncFormatter(lambda x, p: format(int(x), ',')))\n",
    "                    plt.show()\n",
    "\n",
    "\n",
    "def numeric_eda(df, hue=None):\n",
    "    \"\"\"Given dataframe, generate EDA of numeric data\"\"\"\n",
    "    print(\"\\nTo check: \\nDistribution of numeric data\")\n",
    "    display(df.describe().T)\n",
    "    columns = df.select_dtypes(include=np.number).columns\n",
    "    figure = plt.figure(figsize=(20, 10))\n",
    "    figure.add_subplot(1, len(columns), 1)\n",
    "    for index, col in enumerate(columns):\n",
    "        if index > 0:\n",
    "            figure.add_subplot(1, len(columns), index + 1)\n",
    "        sns.boxplot(y=col, data=df, boxprops={'facecolor': 'None'})\n",
    "    figure.tight_layout()\n",
    "    plt.show()\n",
    "\n",
    "    if len(df.select_dtypes(include='category').columns) > 0:\n",
    "        for col_num in df.select_dtypes(include=np.number).columns:\n",
    "            for col in df.select_dtypes(include='category').columns:\n",
    "                fig = sns.catplot(x=col, y=col_num, kind='violin', data=df, height=5, aspect=2)\n",
    "                fig.set_xticklabels(rotation=90)\n",
    "                plt.show()\n",
    "\n",
    "    # Plot the pairwise joint distributions\n",
    "    print(\"\\nTo check pairwise joint distribution of numeric data\")\n",
    "    if hue == None:\n",
    "        sns.pairplot(df.select_dtypes(include=np.number))\n",
    "    else:\n",
    "        sns.pairplot(df.select_dtypes(include=np.number).join(df[[hue]]), hue=hue)\n",
    "    plt.show()\n",
    "\n",
    "\n",
    "def top5(df):\n",
    "    \"\"\"Given dataframe, generate top 5 unique values for non-numeric data\"\"\"\n",
    "    columns = df.select_dtypes(include=['object', 'category']).columns\n",
    "    for col in columns:\n",
    "        print(\"Top 5 unique values of \" + col)\n",
    "        print(df[col].value_counts().reset_index().rename(columns={\"index\": col, col: \"Count\"})[\n",
    "              :min(5, len(df[col].value_counts()))])\n",
    "        print(\" \")\n",
    "\n",
    "\n",
    "def categorical_eda(df, hue=None):\n",
    "    \"\"\"Given dataframe, generate EDA of categorical data\"\"\"\n",
    "    print(\"\\nTo check: \\nUnique count of non-numeric data\\n\")\n",
    "    print(df.select_dtypes(include=['object', 'category']).nunique())\n",
    "    top5(df)\n",
    "    # Plot count distribution of categorical data\n",
    "    for col in df.select_dtypes(include='category').columns:\n",
    "        fig = sns.catplot(x=col, kind=\"count\", data=df, hue=hue)\n",
    "        fig.set_xticklabels(rotation=90)\n",
    "        plt.show()\n",
    "\n",
    "\n",
    "def eda(df):\n",
    "    \"\"\"Given dataframe, generate exploratory data analysis\"\"\"\n",
    "    # check that input is pandas dataframe\n",
    "    if type(df) != pd.core.frame.DataFrame:\n",
    "        raise TypeError(\"Only pandas dataframe is allowed as input\")\n",
    "\n",
    "    # replace field that's entirely space (or empty) with NaN\n",
    "    df = df.replace(r'^\\s*$', np.nan, regex=True)\n",
    "\n",
    "    print(\"Preview of data:\")\n",
    "    display(df.head(3))\n",
    "\n",
    "    print(\"\\nTo check: \\n (1) Total number of entries \\n (2) Column types \\n (3) Any null values\\n\")\n",
    "    print(df.info())\n",
    "\n",
    "    # generate preview of entries with null values\n",
    "    if df.isnull().any(axis=None):\n",
    "        print(\"\\nPreview of data with null values:\")\n",
    "        display(df[df.isnull().any(axis=1)].head(3))\n",
    "        missingno.matrix(df)\n",
    "        plt.show()\n",
    "\n",
    "    # generate count statistics of duplicate entries\n",
    "    if len(df[df.duplicated()]) > 0:\n",
    "        print(\"\\n***Number of duplicated entries: \", len(df[df.duplicated()]))\n",
    "        display(df[df.duplicated(keep=False)].sort_values(by=list(df.columns)).head())\n",
    "    else:\n",
    "        print(\"\\nNo duplicated entries found\")\n",
    "\n",
    "    print('cat')\n",
    "    # EDA of categorical data\n",
    "    categorical_eda(df)\n",
    "\n",
    "    print('num')\n",
    "    # EDA of numeric data\n",
    "    numeric_eda(df)\n",
    "    print('time')\n",
    "    # Plot time series plot of numeric data\n",
    "    time_series_plot(df)"
   ],
   "metadata": {
    "collapsed": false
   }
  },
  {
   "cell_type": "code",
   "execution_count": null,
   "outputs": [],
   "source": [
    "eda(trainDf)"
   ],
   "metadata": {
    "collapsed": false,
    "pycharm": {
     "is_executing": true
    }
   }
  },
  {
   "cell_type": "code",
   "execution_count": null,
   "metadata": {
    "pycharm": {
     "is_executing": true
    }
   },
   "outputs": [],
   "source": [
    "# 5. Провести EDA и вывести какие-то умозаключения и посмотреть на распределения признаков, на корреляции, на выбросы."
   ]
  },
  {
   "cell_type": "code",
   "execution_count": null,
   "metadata": {
    "pycharm": {
     "is_executing": true
    }
   },
   "outputs": [],
   "source": [
    "# 6. Подумать над вариантом модели, для того чтобы решить задачу (либо ансамблем моделей)"
   ]
  },
  {
   "cell_type": "code",
   "execution_count": null,
   "outputs": [],
   "source": [
    "print('Так как n << m, лучше использовать логистическую регрессию, либо SMV without kernel.')"
   ],
   "metadata": {
    "collapsed": false,
    "pycharm": {
     "is_executing": true
    }
   }
  },
  {
   "cell_type": "code",
   "execution_count": null,
   "metadata": {
    "pycharm": {
     "is_executing": true
    }
   },
   "outputs": [],
   "source": [
    "# 7. Подумать нужно ли применять Unsupervised learning подход для решения задачи?\n",
    "# Неоходима ли дополнительная информация?"
   ]
  },
  {
   "cell_type": "code",
   "execution_count": null,
   "metadata": {
    "pycharm": {
     "is_executing": true
    }
   },
   "outputs": [],
   "source": [
    "# 8. Обучить модель и вывести валидационный скор по метрике качества."
   ]
  }
 ],
 "metadata": {
  "kernelspec": {
   "display_name": "Python 3 (ipykernel)",
   "language": "python",
   "name": "python3"
  },
  "language_info": {
   "codemirror_mode": {
    "name": "ipython",
    "version": 3
   },
   "file_extension": ".py",
   "mimetype": "text/x-python",
   "name": "python",
   "nbconvert_exporter": "python",
   "pygments_lexer": "ipython3",
   "version": "3.10.4"
  }
 },
 "nbformat": 4,
 "nbformat_minor": 1
}
