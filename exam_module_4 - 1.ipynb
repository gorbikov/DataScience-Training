{
 "cells": [
  {
   "cell_type": "code",
   "execution_count": 269,
   "metadata": {},
   "outputs": [
    {
     "ename": "SyntaxError",
     "evalue": "invalid syntax (exploratory_data_analysis.py, line 10)",
     "output_type": "error",
     "traceback": [
      "Traceback \u001B[0;36m(most recent call last)\u001B[0m:\n",
      "  File \u001B[1;32m~/miniconda3/envs/DataScience/lib/python3.10/site-packages/IPython/core/interactiveshell.py:3398\u001B[0m in \u001B[1;35mrun_code\u001B[0m\n    exec(code_obj, self.user_global_ns, self.user_ns)\n",
      "\u001B[0;36m  Input \u001B[0;32mIn [269]\u001B[0;36m in \u001B[0;35m<cell line: 9>\u001B[0;36m\u001B[0m\n\u001B[0;31m    from exploratory_data_analysis import *\u001B[0m\n",
      "\u001B[0;36m  File \u001B[0;32m~/Projects/PythonScripts/exploratory_data_analysis.py:10\u001B[0;36m\u001B[0m\n\u001B[0;31m    % matplotlib inline\u001B[0m\n\u001B[0m    ^\u001B[0m\n\u001B[0;31mSyntaxError\u001B[0m\u001B[0;31m:\u001B[0m invalid syntax\n"
     ]
    }
   ],
   "source": [
    "# Настраиваем импорты.\n",
    "import pandas as pd\n",
    "import numpy as np\n",
    "import matplotlib\n",
    "import matplotlib.pyplot as plt\n",
    "import seaborn as sns\n",
    "import missingno\n",
    "%matplotlib inline\n",
    "from exploratory_data_analysis import *\n",
    "\n",
    "# Вводные.\n",
    "trainPath = 'data/exam_module_4/1_variant_dna_sequence_mutation_prediction/input/train.csv'\n",
    "testPath = 'data/exam_module_4/1_variant_dna_sequence_mutation_prediction/input/test.csv'\n",
    "cvFraction = 0.15\n",
    "randomCeed = 777"
   ]
  },
  {
   "cell_type": "code",
   "execution_count": 270,
   "metadata": {},
   "outputs": [],
   "source": [
    "# 1. Определяем тип задачи."
   ]
  },
  {
   "cell_type": "code",
   "execution_count": 271,
   "outputs": [
    {
     "name": "stdout",
     "output_type": "stream",
     "text": [
      "Task type: logistic regression or SVM\n"
     ]
    }
   ],
   "source": [
    "print('Task type: logistic regression or SVM')"
   ],
   "metadata": {
    "collapsed": false
   }
  },
  {
   "cell_type": "code",
   "execution_count": 272,
   "metadata": {},
   "outputs": [],
   "source": [
    "# 2. Создаём фреймы и выделяем часть датасета на CV."
   ]
  },
  {
   "cell_type": "code",
   "execution_count": 273,
   "outputs": [
    {
     "name": "stdout",
     "output_type": "stream",
     "text": [
      "<class 'pandas.core.frame.DataFrame'>\n",
      "RangeIndex: 180000 entries, 0 to 179999\n",
      "Data columns (total 32 columns):\n",
      " #   Column     Non-Null Count   Dtype  \n",
      "---  ------     --------------   -----  \n",
      " 0   ID         180000 non-null  int64  \n",
      " 1   sequence1  180000 non-null  object \n",
      " 2   sequence2  180000 non-null  object \n",
      " 3   sequence3  180000 non-null  object \n",
      " 4   sequence4  180000 non-null  object \n",
      " 5   sequence5  180000 non-null  object \n",
      " 6   sequence6  180000 non-null  object \n",
      " 7   sequence7  180000 non-null  object \n",
      " 8   sequence8  180000 non-null  object \n",
      " 9   sequence9  180000 non-null  object \n",
      " 10  A          180000 non-null  int64  \n",
      " 11  B          180000 non-null  int64  \n",
      " 12  C          180000 non-null  int64  \n",
      " 13  D          180000 non-null  int64  \n",
      " 14  E          180000 non-null  int64  \n",
      " 15  F          180000 non-null  int64  \n",
      " 16  G          180000 non-null  int64  \n",
      " 17  H          180000 non-null  int64  \n",
      " 18  I          180000 non-null  int64  \n",
      " 19  J          180000 non-null  int64  \n",
      " 20  K          180000 non-null  float64\n",
      " 21  L          180000 non-null  float64\n",
      " 22  M          180000 non-null  float64\n",
      " 23  N          180000 non-null  float64\n",
      " 24  O          180000 non-null  float64\n",
      " 25  P          180000 non-null  float64\n",
      " 26  Q          180000 non-null  float64\n",
      " 27  R          180000 non-null  float64\n",
      " 28  S          180000 non-null  float64\n",
      " 29  T          180000 non-null  float64\n",
      " 30  U          180000 non-null  float64\n",
      " 31  mutation   180000 non-null  int64  \n",
      "dtypes: float64(11), int64(12), object(9)\n",
      "memory usage: 43.9+ MB\n"
     ]
    },
    {
     "data": {
      "text/plain": "   ID     sequence1     sequence2     sequence3     sequence4     sequence5  \\\n0   0  ATGCGCTTAATT  ATGCGCTTAATT  ATGCGCTTAATT  ATGCGCTTAATT  ATGCGCTTAATT   \n1   2  ATGCGCTTAATT  ATGCGCTTAATT  GATCGTAGCTAA  ATGCGCTTAATT  ATGCGCTTAATT   \n2   5  ATGCGCTTAATT  ATGCGCTTAATT  ATGCGCTTAATT  ATGCGCTTAATT  ATGCGCTTAATT   \n3   7  ATGCGCTTAATT  ATGCGCTTAATT  ATGCGCTTAATT  ATGCGCTTAATT  ATGCGCTTAATT   \n4   9  ATGCGCTTAATT  GATCGTAGCTAA  ATGCGCTTAATT  GATCGTAGCTAA  GATCGTAGCTAA   \n\n      sequence6     sequence7     sequence8     sequence9  ...         M  \\\n0  AAATCAGCTAAA  ATTCCATATTTT  ATTCCATATTTT  AAATCAGCTAAA  ...  0.759439   \n1  AAATCAGCTAAA  ATTCCATATTTT  ATTCCATATTTT  AAATCAGCTAAA  ...  0.343255   \n2  AAATCAGCTAAA  ATTCCATATTTT  ATTCCATATTTT  AAATCAGCTAAA  ...  0.524760   \n3  ATTCCATATTTT  AAATCAGCTAAA  TAACATACAGAG  TAACATACAGAG  ...  0.943545   \n4  ATTCCATATTTT  AAATCAGCTAAA  ATTCCATATTTT  TAACATACAGAG  ...  0.397622   \n\n          N         O         P         Q         R         S         T  \\\n0  0.795549  0.681917  0.621672  0.592184  0.791921  0.815254  0.965006   \n1  0.616352  0.793687  0.552877  0.352113  0.388835  0.412303  0.292696   \n2  0.580085  0.301498  0.261055  0.193988  0.935688  0.685868  0.277694   \n3  0.209744  0.670577  0.772650  0.845751  0.507320  0.927204  0.605755   \n4  0.506096  0.200673  0.734145  0.521673  0.365571  0.416094  0.584799   \n\n          U  mutation  \n0  0.665915         0  \n1  0.549452         0  \n2  0.428115         0  \n3  0.454155         1  \n4  0.447149         1  \n\n[5 rows x 32 columns]",
      "text/html": "<div>\n<style scoped>\n    .dataframe tbody tr th:only-of-type {\n        vertical-align: middle;\n    }\n\n    .dataframe tbody tr th {\n        vertical-align: top;\n    }\n\n    .dataframe thead th {\n        text-align: right;\n    }\n</style>\n<table border=\"1\" class=\"dataframe\">\n  <thead>\n    <tr style=\"text-align: right;\">\n      <th></th>\n      <th>ID</th>\n      <th>sequence1</th>\n      <th>sequence2</th>\n      <th>sequence3</th>\n      <th>sequence4</th>\n      <th>sequence5</th>\n      <th>sequence6</th>\n      <th>sequence7</th>\n      <th>sequence8</th>\n      <th>sequence9</th>\n      <th>...</th>\n      <th>M</th>\n      <th>N</th>\n      <th>O</th>\n      <th>P</th>\n      <th>Q</th>\n      <th>R</th>\n      <th>S</th>\n      <th>T</th>\n      <th>U</th>\n      <th>mutation</th>\n    </tr>\n  </thead>\n  <tbody>\n    <tr>\n      <th>0</th>\n      <td>0</td>\n      <td>ATGCGCTTAATT</td>\n      <td>ATGCGCTTAATT</td>\n      <td>ATGCGCTTAATT</td>\n      <td>ATGCGCTTAATT</td>\n      <td>ATGCGCTTAATT</td>\n      <td>AAATCAGCTAAA</td>\n      <td>ATTCCATATTTT</td>\n      <td>ATTCCATATTTT</td>\n      <td>AAATCAGCTAAA</td>\n      <td>...</td>\n      <td>0.759439</td>\n      <td>0.795549</td>\n      <td>0.681917</td>\n      <td>0.621672</td>\n      <td>0.592184</td>\n      <td>0.791921</td>\n      <td>0.815254</td>\n      <td>0.965006</td>\n      <td>0.665915</td>\n      <td>0</td>\n    </tr>\n    <tr>\n      <th>1</th>\n      <td>2</td>\n      <td>ATGCGCTTAATT</td>\n      <td>ATGCGCTTAATT</td>\n      <td>GATCGTAGCTAA</td>\n      <td>ATGCGCTTAATT</td>\n      <td>ATGCGCTTAATT</td>\n      <td>AAATCAGCTAAA</td>\n      <td>ATTCCATATTTT</td>\n      <td>ATTCCATATTTT</td>\n      <td>AAATCAGCTAAA</td>\n      <td>...</td>\n      <td>0.343255</td>\n      <td>0.616352</td>\n      <td>0.793687</td>\n      <td>0.552877</td>\n      <td>0.352113</td>\n      <td>0.388835</td>\n      <td>0.412303</td>\n      <td>0.292696</td>\n      <td>0.549452</td>\n      <td>0</td>\n    </tr>\n    <tr>\n      <th>2</th>\n      <td>5</td>\n      <td>ATGCGCTTAATT</td>\n      <td>ATGCGCTTAATT</td>\n      <td>ATGCGCTTAATT</td>\n      <td>ATGCGCTTAATT</td>\n      <td>ATGCGCTTAATT</td>\n      <td>AAATCAGCTAAA</td>\n      <td>ATTCCATATTTT</td>\n      <td>ATTCCATATTTT</td>\n      <td>AAATCAGCTAAA</td>\n      <td>...</td>\n      <td>0.524760</td>\n      <td>0.580085</td>\n      <td>0.301498</td>\n      <td>0.261055</td>\n      <td>0.193988</td>\n      <td>0.935688</td>\n      <td>0.685868</td>\n      <td>0.277694</td>\n      <td>0.428115</td>\n      <td>0</td>\n    </tr>\n    <tr>\n      <th>3</th>\n      <td>7</td>\n      <td>ATGCGCTTAATT</td>\n      <td>ATGCGCTTAATT</td>\n      <td>ATGCGCTTAATT</td>\n      <td>ATGCGCTTAATT</td>\n      <td>ATGCGCTTAATT</td>\n      <td>ATTCCATATTTT</td>\n      <td>AAATCAGCTAAA</td>\n      <td>TAACATACAGAG</td>\n      <td>TAACATACAGAG</td>\n      <td>...</td>\n      <td>0.943545</td>\n      <td>0.209744</td>\n      <td>0.670577</td>\n      <td>0.772650</td>\n      <td>0.845751</td>\n      <td>0.507320</td>\n      <td>0.927204</td>\n      <td>0.605755</td>\n      <td>0.454155</td>\n      <td>1</td>\n    </tr>\n    <tr>\n      <th>4</th>\n      <td>9</td>\n      <td>ATGCGCTTAATT</td>\n      <td>GATCGTAGCTAA</td>\n      <td>ATGCGCTTAATT</td>\n      <td>GATCGTAGCTAA</td>\n      <td>GATCGTAGCTAA</td>\n      <td>ATTCCATATTTT</td>\n      <td>AAATCAGCTAAA</td>\n      <td>ATTCCATATTTT</td>\n      <td>TAACATACAGAG</td>\n      <td>...</td>\n      <td>0.397622</td>\n      <td>0.506096</td>\n      <td>0.200673</td>\n      <td>0.734145</td>\n      <td>0.521673</td>\n      <td>0.365571</td>\n      <td>0.416094</td>\n      <td>0.584799</td>\n      <td>0.447149</td>\n      <td>1</td>\n    </tr>\n  </tbody>\n</table>\n<p>5 rows × 32 columns</p>\n</div>"
     },
     "execution_count": 273,
     "metadata": {},
     "output_type": "execute_result"
    }
   ],
   "source": [
    "#Смотрим огригинальные тренировочные данные.\n",
    "originalTrainDf = pd.read_csv(trainPath)\n",
    "originalTrainDf.info()\n",
    "originalTrainDf.head()"
   ],
   "metadata": {
    "collapsed": false
   }
  },
  {
   "cell_type": "code",
   "execution_count": 274,
   "outputs": [
    {
     "name": "stdout",
     "output_type": "stream",
     "text": [
      "<class 'pandas.core.frame.DataFrame'>\n",
      "RangeIndex: 120000 entries, 0 to 119999\n",
      "Data columns (total 31 columns):\n",
      " #   Column     Non-Null Count   Dtype  \n",
      "---  ------     --------------   -----  \n",
      " 0   ID         120000 non-null  int64  \n",
      " 1   sequence1  120000 non-null  object \n",
      " 2   sequence2  120000 non-null  object \n",
      " 3   sequence3  120000 non-null  object \n",
      " 4   sequence4  120000 non-null  object \n",
      " 5   sequence5  120000 non-null  object \n",
      " 6   sequence6  120000 non-null  object \n",
      " 7   sequence7  120000 non-null  object \n",
      " 8   sequence8  120000 non-null  object \n",
      " 9   sequence9  120000 non-null  object \n",
      " 10  A          120000 non-null  int64  \n",
      " 11  B          120000 non-null  int64  \n",
      " 12  C          120000 non-null  int64  \n",
      " 13  D          120000 non-null  int64  \n",
      " 14  E          120000 non-null  int64  \n",
      " 15  F          120000 non-null  int64  \n",
      " 16  G          120000 non-null  int64  \n",
      " 17  H          120000 non-null  int64  \n",
      " 18  I          120000 non-null  int64  \n",
      " 19  J          120000 non-null  int64  \n",
      " 20  K          120000 non-null  float64\n",
      " 21  L          120000 non-null  float64\n",
      " 22  M          120000 non-null  float64\n",
      " 23  N          120000 non-null  float64\n",
      " 24  O          120000 non-null  float64\n",
      " 25  P          120000 non-null  float64\n",
      " 26  Q          120000 non-null  float64\n",
      " 27  R          120000 non-null  float64\n",
      " 28  S          120000 non-null  float64\n",
      " 29  T          120000 non-null  float64\n",
      " 30  U          120000 non-null  float64\n",
      "dtypes: float64(11), int64(11), object(9)\n",
      "memory usage: 28.4+ MB\n"
     ]
    },
    {
     "data": {
      "text/plain": "   ID     sequence1     sequence2     sequence3     sequence4     sequence5  \\\n0   1  ATGCGCTTAATT  ATGCGCTTAATT  GATCGTAGCTAA  ATGCGCTTAATT  GATCGTAGCTAA   \n1   3  ATGCGCTTAATT  ATGCGCTTAATT  ATGCGCTTAATT  ATGCGCTTAATT  ATGCGCTTAATT   \n2   4  ATGCGCTTAATT  ATGCGCTTAATT  ATGCGCTTAATT  ATGCGCTTAATT  GATCGTAGCTAA   \n3   6  ATGCGCTTAATT  ATGCGCTTAATT  ATGCGCTTAATT  ATGCGCTTAATT  GATCGTAGCTAA   \n4   8  GATCGTAGCTAA  ATGCGCTTAATT  ATGCGCTTAATT  ATGCGCTTAATT  ATGCGCTTAATT   \n\n      sequence6     sequence7     sequence8     sequence9  ...         L  \\\n0  ATTCCATATTTT  AAATCAGCTAAA  ATTCCATATTTT  AAATCAGCTAAA  ...  0.328929   \n1  AAATCAGCTAAA  ATTCCATATTTT  ATTCCATATTTT  AAATCAGCTAAA  ...  0.707663   \n2  AAATCAGCTAAA  AAATCAGCTAAA  ATTCCATATTTT  AAATCAGCTAAA  ...  0.274514   \n3  ATTCCATATTTT  ATTCCATATTTT  ATTCCATATTTT  AAATCAGCTAAA  ...  0.707840   \n4  AAATCAGCTAAA  ATTCCATATTTT  ATTCCATATTTT  AAATCAGCTAAA  ...  0.664718   \n\n          M         N         O         P         Q         R         S  \\\n0  0.386385  0.541366  0.388982  0.357778  0.600044  0.408701  0.399353   \n1  0.831147  0.807807  0.800032  0.619147  0.221789  0.897617  0.633669   \n2  0.338818  0.277308  0.610578  0.128291  0.578764  0.279167  0.351103   \n3  0.678466  0.747125  0.678212  0.553609  0.281719  0.768782  0.688580   \n4  0.635195  0.672264  0.561127  0.419873  0.508550  0.673267  0.356103   \n\n          T         U  \n0  0.927406  0.493729  \n1  0.760318  0.934242  \n2  0.357084  0.328960  \n3  0.320699  0.642256  \n4  0.471519  0.499554  \n\n[5 rows x 31 columns]",
      "text/html": "<div>\n<style scoped>\n    .dataframe tbody tr th:only-of-type {\n        vertical-align: middle;\n    }\n\n    .dataframe tbody tr th {\n        vertical-align: top;\n    }\n\n    .dataframe thead th {\n        text-align: right;\n    }\n</style>\n<table border=\"1\" class=\"dataframe\">\n  <thead>\n    <tr style=\"text-align: right;\">\n      <th></th>\n      <th>ID</th>\n      <th>sequence1</th>\n      <th>sequence2</th>\n      <th>sequence3</th>\n      <th>sequence4</th>\n      <th>sequence5</th>\n      <th>sequence6</th>\n      <th>sequence7</th>\n      <th>sequence8</th>\n      <th>sequence9</th>\n      <th>...</th>\n      <th>L</th>\n      <th>M</th>\n      <th>N</th>\n      <th>O</th>\n      <th>P</th>\n      <th>Q</th>\n      <th>R</th>\n      <th>S</th>\n      <th>T</th>\n      <th>U</th>\n    </tr>\n  </thead>\n  <tbody>\n    <tr>\n      <th>0</th>\n      <td>1</td>\n      <td>ATGCGCTTAATT</td>\n      <td>ATGCGCTTAATT</td>\n      <td>GATCGTAGCTAA</td>\n      <td>ATGCGCTTAATT</td>\n      <td>GATCGTAGCTAA</td>\n      <td>ATTCCATATTTT</td>\n      <td>AAATCAGCTAAA</td>\n      <td>ATTCCATATTTT</td>\n      <td>AAATCAGCTAAA</td>\n      <td>...</td>\n      <td>0.328929</td>\n      <td>0.386385</td>\n      <td>0.541366</td>\n      <td>0.388982</td>\n      <td>0.357778</td>\n      <td>0.600044</td>\n      <td>0.408701</td>\n      <td>0.399353</td>\n      <td>0.927406</td>\n      <td>0.493729</td>\n    </tr>\n    <tr>\n      <th>1</th>\n      <td>3</td>\n      <td>ATGCGCTTAATT</td>\n      <td>ATGCGCTTAATT</td>\n      <td>ATGCGCTTAATT</td>\n      <td>ATGCGCTTAATT</td>\n      <td>ATGCGCTTAATT</td>\n      <td>AAATCAGCTAAA</td>\n      <td>ATTCCATATTTT</td>\n      <td>ATTCCATATTTT</td>\n      <td>AAATCAGCTAAA</td>\n      <td>...</td>\n      <td>0.707663</td>\n      <td>0.831147</td>\n      <td>0.807807</td>\n      <td>0.800032</td>\n      <td>0.619147</td>\n      <td>0.221789</td>\n      <td>0.897617</td>\n      <td>0.633669</td>\n      <td>0.760318</td>\n      <td>0.934242</td>\n    </tr>\n    <tr>\n      <th>2</th>\n      <td>4</td>\n      <td>ATGCGCTTAATT</td>\n      <td>ATGCGCTTAATT</td>\n      <td>ATGCGCTTAATT</td>\n      <td>ATGCGCTTAATT</td>\n      <td>GATCGTAGCTAA</td>\n      <td>AAATCAGCTAAA</td>\n      <td>AAATCAGCTAAA</td>\n      <td>ATTCCATATTTT</td>\n      <td>AAATCAGCTAAA</td>\n      <td>...</td>\n      <td>0.274514</td>\n      <td>0.338818</td>\n      <td>0.277308</td>\n      <td>0.610578</td>\n      <td>0.128291</td>\n      <td>0.578764</td>\n      <td>0.279167</td>\n      <td>0.351103</td>\n      <td>0.357084</td>\n      <td>0.328960</td>\n    </tr>\n    <tr>\n      <th>3</th>\n      <td>6</td>\n      <td>ATGCGCTTAATT</td>\n      <td>ATGCGCTTAATT</td>\n      <td>ATGCGCTTAATT</td>\n      <td>ATGCGCTTAATT</td>\n      <td>GATCGTAGCTAA</td>\n      <td>ATTCCATATTTT</td>\n      <td>ATTCCATATTTT</td>\n      <td>ATTCCATATTTT</td>\n      <td>AAATCAGCTAAA</td>\n      <td>...</td>\n      <td>0.707840</td>\n      <td>0.678466</td>\n      <td>0.747125</td>\n      <td>0.678212</td>\n      <td>0.553609</td>\n      <td>0.281719</td>\n      <td>0.768782</td>\n      <td>0.688580</td>\n      <td>0.320699</td>\n      <td>0.642256</td>\n    </tr>\n    <tr>\n      <th>4</th>\n      <td>8</td>\n      <td>GATCGTAGCTAA</td>\n      <td>ATGCGCTTAATT</td>\n      <td>ATGCGCTTAATT</td>\n      <td>ATGCGCTTAATT</td>\n      <td>ATGCGCTTAATT</td>\n      <td>AAATCAGCTAAA</td>\n      <td>ATTCCATATTTT</td>\n      <td>ATTCCATATTTT</td>\n      <td>AAATCAGCTAAA</td>\n      <td>...</td>\n      <td>0.664718</td>\n      <td>0.635195</td>\n      <td>0.672264</td>\n      <td>0.561127</td>\n      <td>0.419873</td>\n      <td>0.508550</td>\n      <td>0.673267</td>\n      <td>0.356103</td>\n      <td>0.471519</td>\n      <td>0.499554</td>\n    </tr>\n  </tbody>\n</table>\n<p>5 rows × 31 columns</p>\n</div>"
     },
     "execution_count": 274,
     "metadata": {},
     "output_type": "execute_result"
    }
   ],
   "source": [
    "#Смотрим огригинальные тренировочные данные.\n",
    "originalTestDf = pd.read_csv(testPath)\n",
    "originalTestDf.info()\n",
    "originalTestDf.head()"
   ],
   "metadata": {
    "collapsed": false
   }
  },
  {
   "cell_type": "code",
   "execution_count": 275,
   "outputs": [],
   "source": [
    "#Формируем датафреймы из псевдорандомных выборок.\n",
    "trainDf = originalTrainDf.sample(frac=(1 - cvFraction), random_state=randomCeed).drop('mutation', axis=1)\n",
    "trainDfTarget = originalTrainDf.sample(frac=(1 - cvFraction), random_state=randomCeed)[['ID', 'mutation']]\n",
    "cvDf = originalTrainDf.drop(trainDf.index).drop('mutation', axis=1)\n",
    "cvDfTarget = originalTrainDf.drop(trainDfTarget.index)[['ID', 'mutation']]\n",
    "testDf = originalTestDf"
   ],
   "metadata": {
    "collapsed": false
   }
  },
  {
   "cell_type": "code",
   "execution_count": 276,
   "outputs": [
    {
     "name": "stdout",
     "output_type": "stream",
     "text": [
      "Original train data:\n"
     ]
    },
    {
     "data": {
      "text/plain": "(180000, 32)"
     },
     "execution_count": 276,
     "metadata": {},
     "output_type": "execute_result"
    }
   ],
   "source": [
    "print('Original train data:')\n",
    "pd.read_csv(trainPath).shape"
   ],
   "metadata": {
    "collapsed": false
   }
  },
  {
   "cell_type": "code",
   "execution_count": 277,
   "outputs": [
    {
     "name": "stdout",
     "output_type": "stream",
     "text": [
      "Original test data:\n"
     ]
    },
    {
     "data": {
      "text/plain": "(120000, 31)"
     },
     "execution_count": 277,
     "metadata": {},
     "output_type": "execute_result"
    }
   ],
   "source": [
    "print('Original test data:')\n",
    "pd.read_csv(testPath).shape"
   ],
   "metadata": {
    "collapsed": false
   }
  },
  {
   "cell_type": "code",
   "execution_count": 278,
   "outputs": [
    {
     "name": "stdout",
     "output_type": "stream",
     "text": [
      "Train data:\n"
     ]
    },
    {
     "data": {
      "text/plain": "(153000, 31)"
     },
     "execution_count": 278,
     "metadata": {},
     "output_type": "execute_result"
    }
   ],
   "source": [
    "print('Train data:')\n",
    "trainDf.shape"
   ],
   "metadata": {
    "collapsed": false
   }
  },
  {
   "cell_type": "code",
   "execution_count": 279,
   "outputs": [
    {
     "name": "stdout",
     "output_type": "stream",
     "text": [
      "Train target data:\n"
     ]
    },
    {
     "data": {
      "text/plain": "(153000, 2)"
     },
     "execution_count": 279,
     "metadata": {},
     "output_type": "execute_result"
    }
   ],
   "source": [
    "print('Train target data:')\n",
    "trainDfTarget.shape"
   ],
   "metadata": {
    "collapsed": false
   }
  },
  {
   "cell_type": "code",
   "execution_count": 280,
   "outputs": [
    {
     "name": "stdout",
     "output_type": "stream",
     "text": [
      "CV data:\n"
     ]
    },
    {
     "data": {
      "text/plain": "(27000, 31)"
     },
     "execution_count": 280,
     "metadata": {},
     "output_type": "execute_result"
    }
   ],
   "source": [
    "print('CV data:')\n",
    "cvDf.shape"
   ],
   "metadata": {
    "collapsed": false
   }
  },
  {
   "cell_type": "code",
   "execution_count": 281,
   "outputs": [
    {
     "name": "stdout",
     "output_type": "stream",
     "text": [
      "CV target data:\n"
     ]
    },
    {
     "data": {
      "text/plain": "(27000, 2)"
     },
     "execution_count": 281,
     "metadata": {},
     "output_type": "execute_result"
    }
   ],
   "source": [
    "print('CV target data:')\n",
    "cvDfTarget.shape"
   ],
   "metadata": {
    "collapsed": false
   }
  },
  {
   "cell_type": "code",
   "execution_count": 282,
   "outputs": [
    {
     "name": "stdout",
     "output_type": "stream",
     "text": [
      "Test data:\n"
     ]
    },
    {
     "data": {
      "text/plain": "(120000, 31)"
     },
     "execution_count": 282,
     "metadata": {},
     "output_type": "execute_result"
    }
   ],
   "source": [
    "print('Test data:')\n",
    "testDf.shape"
   ],
   "metadata": {
    "collapsed": false
   }
  },
  {
   "cell_type": "code",
   "execution_count": 283,
   "metadata": {},
   "outputs": [],
   "source": [
    "# 3. Определяем тип переменных в датасете."
   ]
  },
  {
   "cell_type": "code",
   "execution_count": 284,
   "outputs": [
    {
     "name": "stdout",
     "output_type": "stream",
     "text": [
      "Train data types:\n",
      "<class 'pandas.core.frame.DataFrame'>\n",
      "Int64Index: 153000 entries, 105497 to 170866\n",
      "Data columns (total 31 columns):\n",
      " #   Column     Non-Null Count   Dtype  \n",
      "---  ------     --------------   -----  \n",
      " 0   ID         153000 non-null  int64  \n",
      " 1   sequence1  153000 non-null  object \n",
      " 2   sequence2  153000 non-null  object \n",
      " 3   sequence3  153000 non-null  object \n",
      " 4   sequence4  153000 non-null  object \n",
      " 5   sequence5  153000 non-null  object \n",
      " 6   sequence6  153000 non-null  object \n",
      " 7   sequence7  153000 non-null  object \n",
      " 8   sequence8  153000 non-null  object \n",
      " 9   sequence9  153000 non-null  object \n",
      " 10  A          153000 non-null  int64  \n",
      " 11  B          153000 non-null  int64  \n",
      " 12  C          153000 non-null  int64  \n",
      " 13  D          153000 non-null  int64  \n",
      " 14  E          153000 non-null  int64  \n",
      " 15  F          153000 non-null  int64  \n",
      " 16  G          153000 non-null  int64  \n",
      " 17  H          153000 non-null  int64  \n",
      " 18  I          153000 non-null  int64  \n",
      " 19  J          153000 non-null  int64  \n",
      " 20  K          153000 non-null  float64\n",
      " 21  L          153000 non-null  float64\n",
      " 22  M          153000 non-null  float64\n",
      " 23  N          153000 non-null  float64\n",
      " 24  O          153000 non-null  float64\n",
      " 25  P          153000 non-null  float64\n",
      " 26  Q          153000 non-null  float64\n",
      " 27  R          153000 non-null  float64\n",
      " 28  S          153000 non-null  float64\n",
      " 29  T          153000 non-null  float64\n",
      " 30  U          153000 non-null  float64\n",
      "dtypes: float64(11), int64(11), object(9)\n",
      "memory usage: 37.4+ MB\n",
      "Train target data types:\n",
      "<class 'pandas.core.frame.DataFrame'>\n",
      "Int64Index: 153000 entries, 105497 to 170866\n",
      "Data columns (total 2 columns):\n",
      " #   Column    Non-Null Count   Dtype\n",
      "---  ------    --------------   -----\n",
      " 0   ID        153000 non-null  int64\n",
      " 1   mutation  153000 non-null  int64\n",
      "dtypes: int64(2)\n",
      "memory usage: 3.5 MB\n"
     ]
    }
   ],
   "source": [
    "print('Train data types:')\n",
    "trainDf.info()\n",
    "print('Train target data types:')\n",
    "trainDfTarget.info()"
   ],
   "metadata": {
    "collapsed": false
   }
  },
  {
   "cell_type": "code",
   "execution_count": 285,
   "metadata": {},
   "outputs": [],
   "source": [
    "# 4. Если это необходимо провести препроцессинг данных, нужно ли применять алгоритмы понижения размерности?\n",
    "# Нужно ли убирать аномалии?"
   ]
  },
  {
   "cell_type": "code",
   "execution_count": 286,
   "outputs": [
    {
     "name": "stdout",
     "output_type": "stream",
     "text": [
      "Unique in sequence1: 2\n",
      "Unique in sequence2: 2\n",
      "Unique in sequence3: 2\n",
      "Unique in sequence4: 2\n",
      "Unique in sequence5: 2\n",
      "Unique in sequence6: 4\n",
      "Unique in sequence7: 4\n",
      "Unique in sequence8: 4\n",
      "Unique in sequence9: 4\n",
      "Dummie columns: 26\n"
     ]
    }
   ],
   "source": [
    "# Переводим первые 9 столбцов в цифры (по методу one-hot, one-hot столбцы добавляются в конце датафрейма).\n",
    "dummieCounter = 0\n",
    "for col in trainDf.columns:\n",
    "    if trainDf[col].dtypes == object:\n",
    "        dummieCounter += len(trainDf[col].unique())\n",
    "        print('Unique in ' + str(col) + ': ' + str(len(trainDf[col].unique())))\n",
    "print('Dummie columns: ' + str(dummieCounter))\n",
    "\n",
    "trainDf = pd.get_dummies(trainDf)\n",
    "cvDf = pd.get_dummies(cvDf)\n",
    "testDf = pd.get_dummies(testDf)"
   ],
   "metadata": {
    "collapsed": false
   }
  },
  {
   "cell_type": "code",
   "execution_count": 287,
   "outputs": [
    {
     "name": "stdout",
     "output_type": "stream",
     "text": [
      "TrainDF: \n"
     ]
    },
    {
     "data": {
      "text/plain": "(153000, 48)"
     },
     "execution_count": 287,
     "metadata": {},
     "output_type": "execute_result"
    }
   ],
   "source": [
    "print(\"TrainDF: \")\n",
    "trainDf.shape"
   ],
   "metadata": {
    "collapsed": false
   }
  },
  {
   "cell_type": "code",
   "execution_count": 288,
   "outputs": [
    {
     "name": "stdout",
     "output_type": "stream",
     "text": [
      "CvDF: \n"
     ]
    },
    {
     "data": {
      "text/plain": "(27000, 48)"
     },
     "execution_count": 288,
     "metadata": {},
     "output_type": "execute_result"
    }
   ],
   "source": [
    "print('CvDF: ')\n",
    "cvDf.shape"
   ],
   "metadata": {
    "collapsed": false
   }
  },
  {
   "cell_type": "code",
   "execution_count": 289,
   "outputs": [
    {
     "name": "stdout",
     "output_type": "stream",
     "text": [
      "TestDF: \n"
     ]
    },
    {
     "data": {
      "text/plain": "(120000, 48)"
     },
     "execution_count": 289,
     "metadata": {},
     "output_type": "execute_result"
    }
   ],
   "source": [
    "print(\"TestDF: \")\n",
    "testDf.shape"
   ],
   "metadata": {
    "collapsed": false
   }
  },
  {
   "cell_type": "code",
   "execution_count": 291,
   "outputs": [
    {
     "ename": "NameError",
     "evalue": "name 'eda' is not defined",
     "output_type": "error",
     "traceback": [
      "\u001B[0;31m---------------------------------------------------------------------------\u001B[0m",
      "\u001B[0;31mNameError\u001B[0m                                 Traceback (most recent call last)",
      "Input \u001B[0;32mIn [291]\u001B[0m, in \u001B[0;36m<cell line: 1>\u001B[0;34m()\u001B[0m\n\u001B[0;32m----> 1\u001B[0m \u001B[43meda\u001B[49m(trainDf)\n",
      "\u001B[0;31mNameError\u001B[0m: name 'eda' is not defined"
     ]
    }
   ],
   "source": [
    "eda(trainDf)"
   ],
   "metadata": {
    "collapsed": false
   }
  },
  {
   "cell_type": "code",
   "execution_count": null,
   "metadata": {},
   "outputs": [],
   "source": [
    "# 5. Провести EDA и вывести какие-то умозаключения и посмотреть на распределения признаков, на корреляции, на выбросы."
   ]
  },
  {
   "cell_type": "code",
   "execution_count": null,
   "metadata": {},
   "outputs": [],
   "source": [
    "# 6. Подумать над вариантом модели, для того чтобы решить задачу (либо ансамблем моделей)"
   ]
  },
  {
   "cell_type": "code",
   "execution_count": null,
   "outputs": [],
   "source": [
    "print('Так как n << m, лучше использовать логистическую регрессию, либо SMV without kernel.')"
   ],
   "metadata": {
    "collapsed": false
   }
  },
  {
   "cell_type": "code",
   "execution_count": null,
   "metadata": {},
   "outputs": [],
   "source": [
    "# 7. Подумать нужно ли применять Unsupervised learning подход для решения задачи?\n",
    "# Неоходима ли дополнительная информация?"
   ]
  },
  {
   "cell_type": "code",
   "execution_count": null,
   "metadata": {},
   "outputs": [],
   "source": [
    "# 8. Обучить модель и вывести валидационный скор по метрике качества."
   ]
  }
 ],
 "metadata": {
  "kernelspec": {
   "display_name": "Python 3 (ipykernel)",
   "language": "python",
   "name": "python3"
  },
  "language_info": {
   "codemirror_mode": {
    "name": "ipython",
    "version": 3
   },
   "file_extension": ".py",
   "mimetype": "text/x-python",
   "name": "python",
   "nbconvert_exporter": "python",
   "pygments_lexer": "ipython3",
   "version": "3.10.4"
  }
 },
 "nbformat": 4,
 "nbformat_minor": 1
}
