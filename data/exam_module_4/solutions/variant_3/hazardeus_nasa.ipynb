{
 "cells": [
  {
   "cell_type": "code",
   "execution_count": 1,
   "metadata": {
    "collapsed": true,
    "pycharm": {
     "name": "#%%\n"
    }
   },
   "outputs": [],
   "source": [
    "# data manipulation\n",
    "import pandas as pd\n",
    "import numpy as np\n",
    "\n",
    "# visualizations\n",
    "import matplotlib.pyplot as plt\n",
    "import seaborn as sns\n",
    "\n",
    "# machine learning\n",
    "from sklearn.model_selection import StratifiedKFold, GridSearchCV, train_test_split, cross_val_score\n",
    "from sklearn.neighbors import KNeighborsClassifier\n",
    "from sklearn.ensemble import RandomForestClassifier\n",
    "from sklearn.tree import DecisionTreeClassifier, plot_tree\n",
    "from sklearn.pipeline import Pipeline\n",
    "from sklearn.preprocessing import StandardScaler\n",
    "from sklearn.metrics import recall_score, confusion_matrix"
   ]
  },
  {
   "cell_type": "code",
   "execution_count": 2,
   "outputs": [
    {
     "name": "stdout",
     "output_type": "stream",
     "text": [
      "<class 'pandas.core.frame.DataFrame'>\n",
      "RangeIndex: 90836 entries, 0 to 90835\n",
      "Data columns (total 10 columns):\n",
      " #   Column              Non-Null Count  Dtype  \n",
      "---  ------              --------------  -----  \n",
      " 0   id                  90836 non-null  int64  \n",
      " 1   name                90836 non-null  object \n",
      " 2   est_diameter_min    90836 non-null  float64\n",
      " 3   est_diameter_max    90836 non-null  float64\n",
      " 4   relative_velocity   90836 non-null  float64\n",
      " 5   miss_distance       90836 non-null  float64\n",
      " 6   orbiting_body       90836 non-null  object \n",
      " 7   sentry_object       90836 non-null  bool   \n",
      " 8   absolute_magnitude  90836 non-null  float64\n",
      " 9   hazardous           90836 non-null  bool   \n",
      "dtypes: bool(2), float64(5), int64(1), object(2)\n",
      "memory usage: 5.7+ MB\n",
      "None\n"
     ]
    }
   ],
   "source": [
    "df = pd.read_csv(\"../../3_variant_nasa_danger_objects/input/v1_first_collection_2021.csv\")\n",
    "print(df.info())"
   ],
   "metadata": {
    "collapsed": false,
    "pycharm": {
     "name": "#%%\n"
    }
   }
  },
  {
   "cell_type": "code",
   "execution_count": 3,
   "outputs": [
    {
     "name": "stdout",
     "output_type": "stream",
     "text": [
      "Proportion of Hazardous N.E.O.'s\n",
      "False    0.902682\n",
      "True     0.097318\n",
      "Name: hazardous, dtype: float64\n"
     ]
    }
   ],
   "source": [
    "# Fortunately, there do not appear to be any missing values. Because we wish to predict \"hazardous,\" let's do a quick check to see if \"hazardous\" is imbalanced.\n",
    "print(\"Proportion of Hazardous N.E.O.'s\")\n",
    "print(df[\"hazardous\"].value_counts() / len(df))"
   ],
   "metadata": {
    "collapsed": false,
    "pycharm": {
     "name": "#%%\n"
    }
   }
  },
  {
   "cell_type": "code",
   "execution_count": 4,
   "outputs": [
    {
     "name": "stdout",
     "output_type": "stream",
     "text": [
      "id                    27423\n",
      "name                  27423\n",
      "est_diameter_min       1638\n",
      "est_diameter_max       1638\n",
      "relative_velocity     90828\n",
      "miss_distance         90536\n",
      "orbiting_body             1\n",
      "sentry_object             1\n",
      "absolute_magnitude     1638\n",
      "hazardous                 2\n",
      "dtype: int64\n"
     ]
    }
   ],
   "source": [
    "# This is less extreme than I expected. About 9% of all recorded N.E.O's are hazardous. This is not a high percentage, but perhaps higher than we would like it to be. Let's check the number of unique values across other columns.\n",
    "print(df.nunique())"
   ],
   "metadata": {
    "collapsed": false,
    "pycharm": {
     "name": "#%%\n"
    }
   }
  },
  {
   "cell_type": "code",
   "execution_count": 5,
   "outputs": [
    {
     "name": "stdout",
     "output_type": "stream",
     "text": [
      "Spearman Correlation Between \"prev_hazard\" and \"hazardous\":\n",
      "\n",
      "0.9716803297473297\n",
      "\n",
      "\"hazardous\" N.E.O's grouped by \"prev_hazard\"\n",
      "\n",
      "prev_hazard\n",
      "False     448\n",
      "True     8392\n",
      "Name: hazardous, dtype: int64\n"
     ]
    }
   ],
   "source": [
    "# A couple of thoughts here:\n",
    "#\n",
    "# Because \"orbiting_body\" and \"sentry_object\" only have 1 value, they are useless from a modeling standpoint.\n",
    "# Interestingly, there are many thousands of non-unique id's and names. This suggests the same N.E.O's are being sampled over time, with potential different values for the other variables being recorded.\n",
    "# Another suspicious set of variables is \"est_diameter_min\" and \"dst_diameter_max.\" Do we need both of these variables?\n",
    "# Let's start by figuring out what's going on with the \"id\" variable. If the same N.E.O.'s are being sampled over time, we might be able to use past information to predict the future hazardous state of a N.E.O..\n",
    "# groups observations by id, then sums the hazardous column\n",
    "\n",
    "grouped = df.groupby(\"id\").sum()[\"hazardous\"]\n",
    "\n",
    "# this is a binary variable that measure whether there are more than one hazardous observation for that id\n",
    "df[\"prev_hazard\"] = df.apply(lambda row: grouped[row[\"id\"]] > 1, axis=\"columns\")\n",
    "\n",
    "c = df[\"prev_hazard\"].corr(df[\"hazardous\"], method=\"spearman\")\n",
    "print(\"Spearman Correlation Between \\\"prev_hazard\\\" and \\\"hazardous\\\":\\n\")\n",
    "print(c)\n",
    "\n",
    "print(\"\\n\\\"hazardous\\\" N.E.O's grouped by \\\"prev_hazard\\\"\\n\")\n",
    "print(df.groupby(\"prev_hazard\").sum()[\"hazardous\"])\n"
   ],
   "metadata": {
    "collapsed": false,
    "pycharm": {
     "name": "#%%\n"
    }
   }
  },
  {
   "cell_type": "code",
   "execution_count": 6,
   "outputs": [
    {
     "name": "stdout",
     "output_type": "stream",
     "text": [
      "Spearman Correlations with est_diameter_min\n",
      "\n",
      "id                   -0.500122\n",
      "est_diameter_min      1.000000\n",
      "est_diameter_max      1.000000\n",
      "relative_velocity     0.335507\n",
      "miss_distance         0.269061\n",
      "sentry_object              NaN\n",
      "absolute_magnitude   -1.000000\n",
      "hazardous             0.374830\n",
      "prev_hazard           0.363730\n",
      "Name: est_diameter_min, dtype: float64\n"
     ]
    }
   ],
   "source": [
    "# Around 8,000 hazardous N.E.O's are \"prev_hazardous\"--meaning that they have already been recorded as hazardous. Only about 450 N.E.O.'s are false for \"prev_hazard\"--or the only observation of that id to be hazardous. What this means is that of hazardous N.E.O's, it's very likely that there are multiple observations for that object.\n",
    "#\n",
    "# We can now turn to an analysis of \"est_diameter_min\" and \"est_diameter_max.\"\n",
    "\n",
    "# using spearman correlation over pearson's R\n",
    "# spearman's correlation doesn't assume linear relationship\n",
    "\n",
    "print(\"Spearman Correlations with est_diameter_min\\n\")\n",
    "print(df.corr(method=\"spearman\")[\"est_diameter_min\"])"
   ],
   "metadata": {
    "collapsed": false,
    "pycharm": {
     "name": "#%%\n"
    }
   }
  },
  {
   "cell_type": "code",
   "execution_count": 7,
   "outputs": [
    {
     "name": "stdout",
     "output_type": "stream",
     "text": [
      "Spearman Correlations with est_diameter_min\n",
      "\n",
      "id                   -0.262851\n",
      "est_diameter_min      0.374830\n",
      "est_diameter_max      0.374830\n",
      "relative_velocity     0.183875\n",
      "miss_distance         0.043024\n",
      "sentry_object              NaN\n",
      "absolute_magnitude   -0.374830\n",
      "hazardous             1.000000\n",
      "prev_hazard           0.971680\n",
      "Name: hazardous, dtype: float64\n"
     ]
    }
   ],
   "source": [
    "# This is very interesting. Not only are \"est_diameter_min\" and \"est_diameter_max\" perfectly correlated, \"est_diameter_min\" is also perfectly negatively correlated with \"absolute_magnitude\"! These numbers suggest that we only need one of these variables. I'll keep absolute_magnitude.\n",
    "print(\"Spearman Correlations with est_diameter_min\\n\")\n",
    "print(df.corr(method=\"spearman\")[\"hazardous\"])"
   ],
   "metadata": {
    "collapsed": false,
    "pycharm": {
     "name": "#%%\n"
    }
   }
  },
  {
   "cell_type": "code",
   "execution_count": 8,
   "outputs": [
    {
     "data": {
      "text/plain": "       relative_velocity  absolute_magnitude  miss_distance\ncount           90836.00            90836.00       90836.00\nmean            48066.92               23.53    37066546.03\nstd             25293.30                2.89    22352040.60\nmin               203.35                9.23        6745.53\n25%             28619.02               21.34    17210820.24\n50%             44190.12               23.70    37846579.26\n75%             62923.60               25.70    56548996.45\nmax            236990.13               33.20    74798651.45",
      "text/html": "<div>\n<style scoped>\n    .dataframe tbody tr th:only-of-type {\n        vertical-align: middle;\n    }\n\n    .dataframe tbody tr th {\n        vertical-align: top;\n    }\n\n    .dataframe thead th {\n        text-align: right;\n    }\n</style>\n<table border=\"1\" class=\"dataframe\">\n  <thead>\n    <tr style=\"text-align: right;\">\n      <th></th>\n      <th>relative_velocity</th>\n      <th>absolute_magnitude</th>\n      <th>miss_distance</th>\n    </tr>\n  </thead>\n  <tbody>\n    <tr>\n      <th>count</th>\n      <td>90836.00</td>\n      <td>90836.00</td>\n      <td>90836.00</td>\n    </tr>\n    <tr>\n      <th>mean</th>\n      <td>48066.92</td>\n      <td>23.53</td>\n      <td>37066546.03</td>\n    </tr>\n    <tr>\n      <th>std</th>\n      <td>25293.30</td>\n      <td>2.89</td>\n      <td>22352040.60</td>\n    </tr>\n    <tr>\n      <th>min</th>\n      <td>203.35</td>\n      <td>9.23</td>\n      <td>6745.53</td>\n    </tr>\n    <tr>\n      <th>25%</th>\n      <td>28619.02</td>\n      <td>21.34</td>\n      <td>17210820.24</td>\n    </tr>\n    <tr>\n      <th>50%</th>\n      <td>44190.12</td>\n      <td>23.70</td>\n      <td>37846579.26</td>\n    </tr>\n    <tr>\n      <th>75%</th>\n      <td>62923.60</td>\n      <td>25.70</td>\n      <td>56548996.45</td>\n    </tr>\n    <tr>\n      <th>max</th>\n      <td>236990.13</td>\n      <td>33.20</td>\n      <td>74798651.45</td>\n    </tr>\n  </tbody>\n</table>\n</div>"
     },
     "execution_count": 8,
     "metadata": {},
     "output_type": "execute_result"
    }
   ],
   "source": [
    "yColumn = [\"hazardous\"]\n",
    "xColumns = [\"relative_velocity\", \"absolute_magnitude\", \"miss_distance\", \"prev_hazard\"]\n",
    "df = df[xColumns + yColumn]\n",
    "\n",
    "\n",
    "df.describe().round(2)"
   ],
   "metadata": {
    "collapsed": false,
    "pycharm": {
     "name": "#%%\n"
    }
   }
  },
  {
   "cell_type": "markdown",
   "source": [
    "# Distribution Comparisons\n",
    "This section shows grouped distributions of the continuous columns with \"hazardous.\" Compared to \"prev_hazard\", these columns aren't as strong of predictors of \"hazardous.\""
   ],
   "metadata": {
    "collapsed": false,
    "pycharm": {
     "name": "#%% md\n"
    }
   }
  },
  {
   "cell_type": "code",
   "execution_count": 9,
   "outputs": [],
   "source": [
    "# let's start grouping everything by hazardous\n",
    "\n",
    "nHz = df[(df[\"hazardous\"] == False)]\n",
    "hz = df[(df[\"hazardous\"] == True)]\n",
    "\n",
    "# function to show the hazardous and non-hazardous distributions of a variable\n",
    "def compare_dist_hazard(columnName):\n",
    "\n",
    "    f, ax = plt.subplots(figsize=(6, 5))\n",
    "\n",
    "    ax = sns.kdeplot(nHz[columnName], ax=ax, color=\"tab:blue\", label=\"Not Hazardous\")\n",
    "    ax = sns.kdeplot(hz[columnName], ax=ax, color=\"tab:orange\", label=\"Hazardous\")\n",
    "\n",
    "    ax.set_xlabel(\"\")\n",
    "    ax.set_yticklabels([])\n",
    "    ax.set_title(columnName + \" grouped by hazardous\")\n",
    "    ax.legend()\n",
    "    plt.show()"
   ],
   "metadata": {
    "collapsed": false,
    "pycharm": {
     "name": "#%%\n"
    }
   }
  },
  {
   "cell_type": "code",
   "execution_count": 10,
   "outputs": [
    {
     "data": {
      "text/plain": "<Figure size 432x360 with 1 Axes>",
      "image/png": "[encoded data removed]"
     },
     "metadata": {
      "needs_background": "light"
     },
     "output_type": "display_data"
    }
   ],
   "source": [
    "compare_dist_hazard(\"relative_velocity\")"
   ],
   "metadata": {
    "collapsed": false,
    "pycharm": {
     "name": "#%%\n"
    }
   }
  },
  {
   "cell_type": "code",
   "execution_count": 11,
   "outputs": [
    {
     "data": {
      "text/plain": "<Figure size 432x360 with 1 Axes>",
      "image/png": "[encoded data removed]"
     },
     "metadata": {
      "needs_background": "light"
     },
     "output_type": "display_data"
    }
   ],
   "source": [
    "compare_dist_hazard(\"absolute_magnitude\")"
   ],
   "metadata": {
    "collapsed": false,
    "pycharm": {
     "name": "#%%\n"
    }
   }
  },
  {
   "cell_type": "code",
   "execution_count": 12,
   "outputs": [
    {
     "data": {
      "text/plain": "<Figure size 432x360 with 1 Axes>",
      "image/png": "[encoded data removed]"
     },
     "metadata": {
      "needs_background": "light"
     },
     "output_type": "display_data"
    }
   ],
   "source": [
    "compare_dist_hazard(\"miss_distance\")"
   ],
   "metadata": {
    "collapsed": false,
    "pycharm": {
     "name": "#%%\n"
    }
   }
  },
  {
   "cell_type": "markdown",
   "source": [
    "# K-Fold Cross Validation Model Scouting"
   ],
   "metadata": {
    "collapsed": false,
    "pycharm": {
     "name": "#%% md\n"
    }
   }
  },
  {
   "cell_type": "code",
   "execution_count": 13,
   "outputs": [],
   "source": [
    "y = df[\"hazardous\"]\n",
    "X = df.drop(\"hazardous\", axis=\"columns\")\n",
    "\n",
    "\n",
    "# function to conduct k fold cross validation on estimator\n",
    "def cross_validate(estimatorName, estimator):\n",
    "\n",
    "    # this is a pipeline to scale the data, then fit the given estimator\n",
    "    pipe = Pipeline([(\"scalar\", StandardScaler()), (estimatorName, estimator)])\n",
    "\n",
    "    # because our y vector is imbalanced, this stratified k fold cross validator\n",
    "    # ensures that none of the folds has too little of hazardous N.E.O.s\n",
    "    skf = StratifiedKFold(n_splits=5)\n",
    "\n",
    "    # conducts k-fold cross validation with stratified cross validator\n",
    "    scores = cross_val_score(pipe, X, y, scoring=\"recall\", cv=skf)\n",
    "\n",
    "    # outputs results\n",
    "    print(estimatorName)\n",
    "    print(\"\")\n",
    "    print(\"Average Recall: \", np.mean(scores))\n",
    "    print(\"Standard Deviation: \", np.std(scores))"
   ],
   "metadata": {
    "collapsed": false,
    "pycharm": {
     "name": "#%%\n"
    }
   }
  },
  {
   "cell_type": "markdown",
   "source": [
    "#### Using recall as our scoring metric. This is because \"hazardous\" is an imbalanced class and because we care much more about avoiding false negatives than false positives. In other words, we would rather have a N.E.O. wrongly classified as \"hazardous\" than \"not hazardous.\""
   ],
   "metadata": {
    "collapsed": false,
    "pycharm": {
     "name": "#%% md\n"
    }
   }
  },
  {
   "cell_type": "code",
   "execution_count": 14,
   "outputs": [
    {
     "name": "stdout",
     "output_type": "stream",
     "text": [
      "K-Nearest Neighbors\n",
      "\n",
      "Average Recall:  0.9561085972850678\n",
      "Standard Deviation:  0.005288990826950676\n"
     ]
    }
   ],
   "source": [
    "knn = KNeighborsClassifier(weights=\"distance\")\n",
    "cross_validate(\"K-Nearest Neighbors\", knn)"
   ],
   "metadata": {
    "collapsed": false,
    "pycharm": {
     "name": "#%%\n"
    }
   }
  },
  {
   "cell_type": "markdown",
   "source": [
    "## Random Forest Cls"
   ],
   "metadata": {
    "collapsed": false,
    "pycharm": {
     "name": "#%% md\n"
    }
   }
  },
  {
   "cell_type": "code",
   "execution_count": 15,
   "outputs": [
    {
     "name": "stdout",
     "output_type": "stream",
     "text": [
      "Random Forest\n",
      "\n",
      "Average Recall:  0.9593891402714932\n",
      "Standard Deviation:  0.005465100601439458\n"
     ]
    }
   ],
   "source": [
    "rfc = RandomForestClassifier()\n",
    "cross_validate(\"Random Forest\", rfc)"
   ],
   "metadata": {
    "collapsed": false,
    "pycharm": {
     "name": "#%%\n"
    }
   }
  },
  {
   "cell_type": "markdown",
   "source": [
    "# Decision Tree"
   ],
   "metadata": {
    "collapsed": false,
    "pycharm": {
     "name": "#%% md\n"
    }
   }
  },
  {
   "cell_type": "code",
   "execution_count": 16,
   "outputs": [
    {
     "name": "stdout",
     "output_type": "stream",
     "text": [
      "Decision Tree\n",
      "\n",
      "Average Recall:  0.9618778280542987\n",
      "Standard Deviation:  0.005313130572768026\n"
     ]
    }
   ],
   "source": [
    "tree = DecisionTreeClassifier()\n",
    "cross_validate(\"Decision Tree\", tree)"
   ],
   "metadata": {
    "collapsed": false,
    "pycharm": {
     "name": "#%%\n"
    }
   }
  },
  {
   "cell_type": "markdown",
   "source": [
    "# Decision Tree Hyper Param Tuning"
   ],
   "metadata": {
    "collapsed": false,
    "pycharm": {
     "name": "#%% md\n"
    }
   }
  },
  {
   "cell_type": "code",
   "execution_count": 17,
   "outputs": [],
   "source": [
    "def grid_search(estimator, estimatorName, params_dict):\n",
    "    # this is a pipeline to scale the data, then fit the given estimator\n",
    "    pipe = Pipeline([(\"scalar\", StandardScaler()), (estimatorName, estimator)])\n",
    "\n",
    "    # because our y vector is imbalanced, this stratified k fold cross validator\n",
    "    # ensures that none of the folds has too little of hazardous N.E.O.s\n",
    "    skf = StratifiedKFold(n_splits=5)\n",
    "\n",
    "    grid = GridSearchCV(pipe, params_dict, scoring=\"recall\", cv=skf)\n",
    "    grid.fit(X, y)\n",
    "\n",
    "\n",
    "    print(\"Best Params: \", grid.best_params_)\n",
    "    print(\"Best Recall: \", grid.best_score_)\n",
    "\n",
    "\n",
    "search_dict = {\"tree__criterion\": [\"gini\", \"entropy\"],\n",
    "              \"tree__max_depth\": [None, 5, 10],\n",
    "              \"tree__min_samples_split\": [2, 5, 10],\n",
    "              }"
   ],
   "metadata": {
    "collapsed": false,
    "pycharm": {
     "name": "#%%\n"
    }
   }
  },
  {
   "cell_type": "code",
   "execution_count": 18,
   "outputs": [
    {
     "name": "stdout",
     "output_type": "stream",
     "text": [
      "Best Params:  {'tree__criterion': 'gini', 'tree__max_depth': None, 'tree__min_samples_split': 5}\n",
      "Best Recall:  0.9623303167420815\n"
     ]
    }
   ],
   "source": [
    "search_tree = DecisionTreeClassifier()\n",
    "grid_search(search_tree, \"tree\", search_dict)"
   ],
   "metadata": {
    "collapsed": false,
    "pycharm": {
     "name": "#%%\n"
    }
   }
  },
  {
   "cell_type": "markdown",
   "source": [
    "# Feature Importance and Final Metrics"
   ],
   "metadata": {
    "collapsed": false,
    "pycharm": {
     "name": "#%% md\n"
    }
   }
  },
  {
   "cell_type": "code",
   "execution_count": 19,
   "outputs": [
    {
     "data": {
      "text/plain": "<Figure size 504x360 with 1 Axes>",
      "image/png": "[encoded data removed]"
     },
     "metadata": {
      "needs_background": "light"
     },
     "output_type": "display_data"
    }
   ],
   "source": [
    "X_train, X_test, y_train, y_test = train_test_split(X, y, stratify=y)\n",
    "\n",
    "final_model = DecisionTreeClassifier(criterion=\"gini\", min_samples_split=5)\n",
    "final_model.fit(X_train, y_train)\n",
    "\n",
    "feature_names = final_model.feature_names_in_\n",
    "feature_importances = final_model.feature_importances_\n",
    "\n",
    "f, ax = plt.subplots(figsize=(7, 5))\n",
    "ax.barh(range(len(feature_importances)), feature_importances)\n",
    "ax.set_yticks(range(len(feature_importances)))\n",
    "ax.set_yticklabels(feature_names)\n",
    "ax.set_title(\"Feature Importances in Decision Tree\")\n",
    "ax.set_xlabel(\"Feature Importance\")\n",
    "plt.show()"
   ],
   "metadata": {
    "collapsed": false,
    "pycharm": {
     "name": "#%%\n"
    }
   }
  },
  {
   "cell_type": "code",
   "execution_count": 21,
   "outputs": [
    {
     "data": {
      "text/plain": "0.9922497688141265"
     },
     "execution_count": 21,
     "metadata": {},
     "output_type": "execute_result"
    }
   ],
   "source": [
    "final_model.score(X_test, y_test)"
   ],
   "metadata": {
    "collapsed": false,
    "pycharm": {
     "name": "#%%\n"
    }
   }
  },
  {
   "cell_type": "code",
   "execution_count": null,
   "outputs": [],
   "source": [],
   "metadata": {
    "collapsed": false,
    "pycharm": {
     "name": "#%%\n"
    }
   }
  }
 ],
 "metadata": {
  "kernelspec": {
   "display_name": "Python 3",
   "language": "python",
   "name": "python3"
  },
  "language_info": {
   "codemirror_mode": {
    "name": "ipython",
    "version": 2
   },
   "file_extension": ".py",
   "mimetype": "text/x-python",
   "name": "python",
   "nbconvert_exporter": "python",
   "pygments_lexer": "ipython2",
   "version": "2.7.6"
  }
 },
 "nbformat": 4,
 "nbformat_minor": 0
}